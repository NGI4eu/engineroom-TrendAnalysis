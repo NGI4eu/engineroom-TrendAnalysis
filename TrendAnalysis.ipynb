{
 "cells": [
  {
   "cell_type": "code",
   "execution_count": 1,
   "metadata": {},
   "outputs": [
    {
     "data": {
      "text/html": [
       "\n",
       "    <div class=\"bk-root\">\n",
       "        <a href=\"https://bokeh.pydata.org\" target=\"_blank\" class=\"bk-logo bk-logo-small bk-logo-notebook\"></a>\n",
       "        <span id=\"c2cc7622-04cb-4d74-8f28-98179cf77e25\">Loading BokehJS ...</span>\n",
       "    </div>"
      ]
     },
     "metadata": {},
     "output_type": "display_data"
    },
    {
     "data": {
      "application/javascript": [
       "\n",
       "(function(root) {\n",
       "  function now() {\n",
       "    return new Date();\n",
       "  }\n",
       "\n",
       "  var force = true;\n",
       "\n",
       "  if (typeof (root._bokeh_onload_callbacks) === \"undefined\" || force === true) {\n",
       "    root._bokeh_onload_callbacks = [];\n",
       "    root._bokeh_is_loading = undefined;\n",
       "  }\n",
       "\n",
       "  var JS_MIME_TYPE = 'application/javascript';\n",
       "  var HTML_MIME_TYPE = 'text/html';\n",
       "  var EXEC_MIME_TYPE = 'application/vnd.bokehjs_exec.v0+json';\n",
       "  var CLASS_NAME = 'output_bokeh rendered_html';\n",
       "\n",
       "  /**\n",
       "   * Render data to the DOM node\n",
       "   */\n",
       "  function render(props, node) {\n",
       "    var script = document.createElement(\"script\");\n",
       "    node.appendChild(script);\n",
       "  }\n",
       "\n",
       "  /**\n",
       "   * Handle when an output is cleared or removed\n",
       "   */\n",
       "  function handleClearOutput(event, handle) {\n",
       "    var cell = handle.cell;\n",
       "\n",
       "    var id = cell.output_area._bokeh_element_id;\n",
       "    var server_id = cell.output_area._bokeh_server_id;\n",
       "    // Clean up Bokeh references\n",
       "    if (id !== undefined) {\n",
       "      Bokeh.index[id].model.document.clear();\n",
       "      delete Bokeh.index[id];\n",
       "    }\n",
       "\n",
       "    if (server_id !== undefined) {\n",
       "      // Clean up Bokeh references\n",
       "      var cmd = \"from bokeh.io.state import curstate; print(curstate().uuid_to_server['\" + server_id + \"'].get_sessions()[0].document.roots[0]._id)\";\n",
       "      cell.notebook.kernel.execute(cmd, {\n",
       "        iopub: {\n",
       "          output: function(msg) {\n",
       "            var element_id = msg.content.text.trim();\n",
       "            Bokeh.index[element_id].model.document.clear();\n",
       "            delete Bokeh.index[element_id];\n",
       "          }\n",
       "        }\n",
       "      });\n",
       "      // Destroy server and session\n",
       "      var cmd = \"import bokeh.io.notebook as ion; ion.destroy_server('\" + server_id + \"')\";\n",
       "      cell.notebook.kernel.execute(cmd);\n",
       "    }\n",
       "  }\n",
       "\n",
       "  /**\n",
       "   * Handle when a new output is added\n",
       "   */\n",
       "  function handleAddOutput(event, handle) {\n",
       "    var output_area = handle.output_area;\n",
       "    var output = handle.output;\n",
       "\n",
       "    // limit handleAddOutput to display_data with EXEC_MIME_TYPE content only\n",
       "    if ((output.output_type != \"display_data\") || (!output.data.hasOwnProperty(EXEC_MIME_TYPE))) {\n",
       "      return\n",
       "    }\n",
       "\n",
       "    var toinsert = output_area.element.find(\".\" + CLASS_NAME.split(' ')[0]);\n",
       "\n",
       "    if (output.metadata[EXEC_MIME_TYPE][\"id\"] !== undefined) {\n",
       "      toinsert[toinsert.length - 1].firstChild.textContent = output.data[JS_MIME_TYPE];\n",
       "      // store reference to embed id on output_area\n",
       "      output_area._bokeh_element_id = output.metadata[EXEC_MIME_TYPE][\"id\"];\n",
       "    }\n",
       "    if (output.metadata[EXEC_MIME_TYPE][\"server_id\"] !== undefined) {\n",
       "      var bk_div = document.createElement(\"div\");\n",
       "      bk_div.innerHTML = output.data[HTML_MIME_TYPE];\n",
       "      var script_attrs = bk_div.children[0].attributes;\n",
       "      for (var i = 0; i < script_attrs.length; i++) {\n",
       "        toinsert[toinsert.length - 1].firstChild.setAttribute(script_attrs[i].name, script_attrs[i].value);\n",
       "      }\n",
       "      // store reference to server id on output_area\n",
       "      output_area._bokeh_server_id = output.metadata[EXEC_MIME_TYPE][\"server_id\"];\n",
       "    }\n",
       "  }\n",
       "\n",
       "  function register_renderer(events, OutputArea) {\n",
       "\n",
       "    function append_mime(data, metadata, element) {\n",
       "      // create a DOM node to render to\n",
       "      var toinsert = this.create_output_subarea(\n",
       "        metadata,\n",
       "        CLASS_NAME,\n",
       "        EXEC_MIME_TYPE\n",
       "      );\n",
       "      this.keyboard_manager.register_events(toinsert);\n",
       "      // Render to node\n",
       "      var props = {data: data, metadata: metadata[EXEC_MIME_TYPE]};\n",
       "      render(props, toinsert[toinsert.length - 1]);\n",
       "      element.append(toinsert);\n",
       "      return toinsert\n",
       "    }\n",
       "\n",
       "    /* Handle when an output is cleared or removed */\n",
       "    events.on('clear_output.CodeCell', handleClearOutput);\n",
       "    events.on('delete.Cell', handleClearOutput);\n",
       "\n",
       "    /* Handle when a new output is added */\n",
       "    events.on('output_added.OutputArea', handleAddOutput);\n",
       "\n",
       "    /**\n",
       "     * Register the mime type and append_mime function with output_area\n",
       "     */\n",
       "    OutputArea.prototype.register_mime_type(EXEC_MIME_TYPE, append_mime, {\n",
       "      /* Is output safe? */\n",
       "      safe: true,\n",
       "      /* Index of renderer in `output_area.display_order` */\n",
       "      index: 0\n",
       "    });\n",
       "  }\n",
       "\n",
       "  // register the mime type if in Jupyter Notebook environment and previously unregistered\n",
       "  if (root.Jupyter !== undefined) {\n",
       "    var events = require('base/js/events');\n",
       "    var OutputArea = require('notebook/js/outputarea').OutputArea;\n",
       "\n",
       "    if (OutputArea.prototype.mime_types().indexOf(EXEC_MIME_TYPE) == -1) {\n",
       "      register_renderer(events, OutputArea);\n",
       "    }\n",
       "  }\n",
       "\n",
       "  \n",
       "  if (typeof (root._bokeh_timeout) === \"undefined\" || force === true) {\n",
       "    root._bokeh_timeout = Date.now() + 5000;\n",
       "    root._bokeh_failed_load = false;\n",
       "  }\n",
       "\n",
       "  var NB_LOAD_WARNING = {'data': {'text/html':\n",
       "     \"<div style='background-color: #fdd'>\\n\"+\n",
       "     \"<p>\\n\"+\n",
       "     \"BokehJS does not appear to have successfully loaded. If loading BokehJS from CDN, this \\n\"+\n",
       "     \"may be due to a slow or bad network connection. Possible fixes:\\n\"+\n",
       "     \"</p>\\n\"+\n",
       "     \"<ul>\\n\"+\n",
       "     \"<li>re-rerun `output_notebook()` to attempt to load from CDN again, or</li>\\n\"+\n",
       "     \"<li>use INLINE resources instead, as so:</li>\\n\"+\n",
       "     \"</ul>\\n\"+\n",
       "     \"<code>\\n\"+\n",
       "     \"from bokeh.resources import INLINE\\n\"+\n",
       "     \"output_notebook(resources=INLINE)\\n\"+\n",
       "     \"</code>\\n\"+\n",
       "     \"</div>\"}};\n",
       "\n",
       "  function display_loaded() {\n",
       "    var el = document.getElementById(\"c2cc7622-04cb-4d74-8f28-98179cf77e25\");\n",
       "    if (el != null) {\n",
       "      el.textContent = \"BokehJS is loading...\";\n",
       "    }\n",
       "    if (root.Bokeh !== undefined) {\n",
       "      if (el != null) {\n",
       "        el.textContent = \"BokehJS \" + root.Bokeh.version + \" successfully loaded.\";\n",
       "      }\n",
       "    } else if (Date.now() < root._bokeh_timeout) {\n",
       "      setTimeout(display_loaded, 100)\n",
       "    }\n",
       "  }\n",
       "\n",
       "\n",
       "  function run_callbacks() {\n",
       "    try {\n",
       "      root._bokeh_onload_callbacks.forEach(function(callback) { callback() });\n",
       "    }\n",
       "    finally {\n",
       "      delete root._bokeh_onload_callbacks\n",
       "    }\n",
       "    console.info(\"Bokeh: all callbacks have finished\");\n",
       "  }\n",
       "\n",
       "  function load_libs(js_urls, callback) {\n",
       "    root._bokeh_onload_callbacks.push(callback);\n",
       "    if (root._bokeh_is_loading > 0) {\n",
       "      console.log(\"Bokeh: BokehJS is being loaded, scheduling callback at\", now());\n",
       "      return null;\n",
       "    }\n",
       "    if (js_urls == null || js_urls.length === 0) {\n",
       "      run_callbacks();\n",
       "      return null;\n",
       "    }\n",
       "    console.log(\"Bokeh: BokehJS not loaded, scheduling load and callback at\", now());\n",
       "    root._bokeh_is_loading = js_urls.length;\n",
       "    for (var i = 0; i < js_urls.length; i++) {\n",
       "      var url = js_urls[i];\n",
       "      var s = document.createElement('script');\n",
       "      s.src = url;\n",
       "      s.async = false;\n",
       "      s.onreadystatechange = s.onload = function() {\n",
       "        root._bokeh_is_loading--;\n",
       "        if (root._bokeh_is_loading === 0) {\n",
       "          console.log(\"Bokeh: all BokehJS libraries loaded\");\n",
       "          run_callbacks()\n",
       "        }\n",
       "      };\n",
       "      s.onerror = function() {\n",
       "        console.warn(\"failed to load library \" + url);\n",
       "      };\n",
       "      console.log(\"Bokeh: injecting script tag for BokehJS library: \", url);\n",
       "      document.getElementsByTagName(\"head\")[0].appendChild(s);\n",
       "    }\n",
       "  };var element = document.getElementById(\"c2cc7622-04cb-4d74-8f28-98179cf77e25\");\n",
       "  if (element == null) {\n",
       "    console.log(\"Bokeh: ERROR: autoload.js configured with elementid 'c2cc7622-04cb-4d74-8f28-98179cf77e25' but no matching script tag was found. \")\n",
       "    return false;\n",
       "  }\n",
       "\n",
       "  var js_urls = [\"https://cdn.pydata.org/bokeh/release/bokeh-0.12.15.min.js\", \"https://cdn.pydata.org/bokeh/release/bokeh-widgets-0.12.15.min.js\", \"https://cdn.pydata.org/bokeh/release/bokeh-tables-0.12.15.min.js\", \"https://cdn.pydata.org/bokeh/release/bokeh-gl-0.12.15.min.js\"];\n",
       "\n",
       "  var inline_js = [\n",
       "    function(Bokeh) {\n",
       "      Bokeh.set_log_level(\"info\");\n",
       "    },\n",
       "    \n",
       "    function(Bokeh) {\n",
       "      \n",
       "    },\n",
       "    function(Bokeh) {\n",
       "      console.log(\"Bokeh: injecting CSS: https://cdn.pydata.org/bokeh/release/bokeh-0.12.15.min.css\");\n",
       "      Bokeh.embed.inject_css(\"https://cdn.pydata.org/bokeh/release/bokeh-0.12.15.min.css\");\n",
       "      console.log(\"Bokeh: injecting CSS: https://cdn.pydata.org/bokeh/release/bokeh-widgets-0.12.15.min.css\");\n",
       "      Bokeh.embed.inject_css(\"https://cdn.pydata.org/bokeh/release/bokeh-widgets-0.12.15.min.css\");\n",
       "      console.log(\"Bokeh: injecting CSS: https://cdn.pydata.org/bokeh/release/bokeh-tables-0.12.15.min.css\");\n",
       "      Bokeh.embed.inject_css(\"https://cdn.pydata.org/bokeh/release/bokeh-tables-0.12.15.min.css\");\n",
       "    }\n",
       "  ];\n",
       "\n",
       "  function run_inline_js() {\n",
       "    \n",
       "    if ((root.Bokeh !== undefined) || (force === true)) {\n",
       "      for (var i = 0; i < inline_js.length; i++) {\n",
       "        inline_js[i].call(root, root.Bokeh);\n",
       "      }if (force === true) {\n",
       "        display_loaded();\n",
       "      }} else if (Date.now() < root._bokeh_timeout) {\n",
       "      setTimeout(run_inline_js, 100);\n",
       "    } else if (!root._bokeh_failed_load) {\n",
       "      console.log(\"Bokeh: BokehJS failed to load within specified timeout.\");\n",
       "      root._bokeh_failed_load = true;\n",
       "    } else if (force !== true) {\n",
       "      var cell = $(document.getElementById(\"c2cc7622-04cb-4d74-8f28-98179cf77e25\")).parents('.cell').data().cell;\n",
       "      cell.output_area.append_execute_result(NB_LOAD_WARNING)\n",
       "    }\n",
       "\n",
       "  }\n",
       "\n",
       "  if (root._bokeh_is_loading === 0) {\n",
       "    console.log(\"Bokeh: BokehJS loaded, going straight to plotting\");\n",
       "    run_inline_js();\n",
       "  } else {\n",
       "    load_libs(js_urls, function() {\n",
       "      console.log(\"Bokeh: BokehJS plotting callback run at\", now());\n",
       "      run_inline_js();\n",
       "    });\n",
       "  }\n",
       "}(window));"
      ],
      "application/vnd.bokehjs_load.v0+json": "\n(function(root) {\n  function now() {\n    return new Date();\n  }\n\n  var force = true;\n\n  if (typeof (root._bokeh_onload_callbacks) === \"undefined\" || force === true) {\n    root._bokeh_onload_callbacks = [];\n    root._bokeh_is_loading = undefined;\n  }\n\n  \n\n  \n  if (typeof (root._bokeh_timeout) === \"undefined\" || force === true) {\n    root._bokeh_timeout = Date.now() + 5000;\n    root._bokeh_failed_load = false;\n  }\n\n  var NB_LOAD_WARNING = {'data': {'text/html':\n     \"<div style='background-color: #fdd'>\\n\"+\n     \"<p>\\n\"+\n     \"BokehJS does not appear to have successfully loaded. If loading BokehJS from CDN, this \\n\"+\n     \"may be due to a slow or bad network connection. Possible fixes:\\n\"+\n     \"</p>\\n\"+\n     \"<ul>\\n\"+\n     \"<li>re-rerun `output_notebook()` to attempt to load from CDN again, or</li>\\n\"+\n     \"<li>use INLINE resources instead, as so:</li>\\n\"+\n     \"</ul>\\n\"+\n     \"<code>\\n\"+\n     \"from bokeh.resources import INLINE\\n\"+\n     \"output_notebook(resources=INLINE)\\n\"+\n     \"</code>\\n\"+\n     \"</div>\"}};\n\n  function display_loaded() {\n    var el = document.getElementById(\"c2cc7622-04cb-4d74-8f28-98179cf77e25\");\n    if (el != null) {\n      el.textContent = \"BokehJS is loading...\";\n    }\n    if (root.Bokeh !== undefined) {\n      if (el != null) {\n        el.textContent = \"BokehJS \" + root.Bokeh.version + \" successfully loaded.\";\n      }\n    } else if (Date.now() < root._bokeh_timeout) {\n      setTimeout(display_loaded, 100)\n    }\n  }\n\n\n  function run_callbacks() {\n    try {\n      root._bokeh_onload_callbacks.forEach(function(callback) { callback() });\n    }\n    finally {\n      delete root._bokeh_onload_callbacks\n    }\n    console.info(\"Bokeh: all callbacks have finished\");\n  }\n\n  function load_libs(js_urls, callback) {\n    root._bokeh_onload_callbacks.push(callback);\n    if (root._bokeh_is_loading > 0) {\n      console.log(\"Bokeh: BokehJS is being loaded, scheduling callback at\", now());\n      return null;\n    }\n    if (js_urls == null || js_urls.length === 0) {\n      run_callbacks();\n      return null;\n    }\n    console.log(\"Bokeh: BokehJS not loaded, scheduling load and callback at\", now());\n    root._bokeh_is_loading = js_urls.length;\n    for (var i = 0; i < js_urls.length; i++) {\n      var url = js_urls[i];\n      var s = document.createElement('script');\n      s.src = url;\n      s.async = false;\n      s.onreadystatechange = s.onload = function() {\n        root._bokeh_is_loading--;\n        if (root._bokeh_is_loading === 0) {\n          console.log(\"Bokeh: all BokehJS libraries loaded\");\n          run_callbacks()\n        }\n      };\n      s.onerror = function() {\n        console.warn(\"failed to load library \" + url);\n      };\n      console.log(\"Bokeh: injecting script tag for BokehJS library: \", url);\n      document.getElementsByTagName(\"head\")[0].appendChild(s);\n    }\n  };var element = document.getElementById(\"c2cc7622-04cb-4d74-8f28-98179cf77e25\");\n  if (element == null) {\n    console.log(\"Bokeh: ERROR: autoload.js configured with elementid 'c2cc7622-04cb-4d74-8f28-98179cf77e25' but no matching script tag was found. \")\n    return false;\n  }\n\n  var js_urls = [\"https://cdn.pydata.org/bokeh/release/bokeh-0.12.15.min.js\", \"https://cdn.pydata.org/bokeh/release/bokeh-widgets-0.12.15.min.js\", \"https://cdn.pydata.org/bokeh/release/bokeh-tables-0.12.15.min.js\", \"https://cdn.pydata.org/bokeh/release/bokeh-gl-0.12.15.min.js\"];\n\n  var inline_js = [\n    function(Bokeh) {\n      Bokeh.set_log_level(\"info\");\n    },\n    \n    function(Bokeh) {\n      \n    },\n    function(Bokeh) {\n      console.log(\"Bokeh: injecting CSS: https://cdn.pydata.org/bokeh/release/bokeh-0.12.15.min.css\");\n      Bokeh.embed.inject_css(\"https://cdn.pydata.org/bokeh/release/bokeh-0.12.15.min.css\");\n      console.log(\"Bokeh: injecting CSS: https://cdn.pydata.org/bokeh/release/bokeh-widgets-0.12.15.min.css\");\n      Bokeh.embed.inject_css(\"https://cdn.pydata.org/bokeh/release/bokeh-widgets-0.12.15.min.css\");\n      console.log(\"Bokeh: injecting CSS: https://cdn.pydata.org/bokeh/release/bokeh-tables-0.12.15.min.css\");\n      Bokeh.embed.inject_css(\"https://cdn.pydata.org/bokeh/release/bokeh-tables-0.12.15.min.css\");\n    }\n  ];\n\n  function run_inline_js() {\n    \n    if ((root.Bokeh !== undefined) || (force === true)) {\n      for (var i = 0; i < inline_js.length; i++) {\n        inline_js[i].call(root, root.Bokeh);\n      }if (force === true) {\n        display_loaded();\n      }} else if (Date.now() < root._bokeh_timeout) {\n      setTimeout(run_inline_js, 100);\n    } else if (!root._bokeh_failed_load) {\n      console.log(\"Bokeh: BokehJS failed to load within specified timeout.\");\n      root._bokeh_failed_load = true;\n    } else if (force !== true) {\n      var cell = $(document.getElementById(\"c2cc7622-04cb-4d74-8f28-98179cf77e25\")).parents('.cell').data().cell;\n      cell.output_area.append_execute_result(NB_LOAD_WARNING)\n    }\n\n  }\n\n  if (root._bokeh_is_loading === 0) {\n    console.log(\"Bokeh: BokehJS loaded, going straight to plotting\");\n    run_inline_js();\n  } else {\n    load_libs(js_urls, function() {\n      console.log(\"Bokeh: BokehJS plotting callback run at\", now());\n      run_inline_js();\n    });\n  }\n}(window));"
     },
     "metadata": {},
     "output_type": "display_data"
    }
   ],
   "source": [
    "import numpy as np\n",
    "import pandas as pd\n",
    "from scipy.spatial.distance import euclidean\n",
    "from fastdtw import fastdtw\n",
    "from math import sqrt\n",
    "import pickle\n",
    "import operator\n",
    "\n",
    "from bokeh.core.properties import value\n",
    "from bokeh.io import show, output_notebook\n",
    "from bokeh.models import ColumnDataSource\n",
    "from bokeh.plotting import figure, show\n",
    "import math\n",
    "from bokeh.transform import dodge\n",
    "import bokeh\n",
    "output_notebook()\n",
    "from bokeh.models import PrintfTickFormatter"
   ]
  },
  {
   "cell_type": "markdown",
   "metadata": {},
   "source": [
    "### Preprocessing data"
   ]
  },
  {
   "cell_type": "code",
   "execution_count": 2,
   "metadata": {},
   "outputs": [],
   "source": [
    "#Create the dataframe with all the words from \"file_name\" from 2007 to 2018\n",
    "def joining_tables(file_name):\n",
    "    arts = list(set(pd.read_csv('data/pageviews/Time_Pageviews.csv', index_col='Articles').index))\n",
    "    df_prev = pd.read_csv('data/pageviews/previous_pageviews_en.csv', index_col=0)\n",
    "    df_prev.columns = pd.to_datetime(df_prev.columns, format='%Y-%m')\n",
    "    df_prev = df_prev.sort_index(axis=1)\n",
    "\n",
    "    df_act = pd.read_csv('data/pageviews/Time_Pageviews.csv', index_col='Articles')\n",
    "    df_act = df_act[df_act.lang=='en'].drop(['lang', 'name', 'name_utf'], axis = 1)\n",
    "\n",
    "    words = list(pd.read_table(file_name+'.txt', header=-1)[0])\n",
    "    df_act = df_act.loc[words]\n",
    "\n",
    "    df_act = df_act[np.isfinite(df_act[df_act.columns[-1]])]\n",
    "    df_act = df_act.replace(np.nan, 0, regex=True)\n",
    "    df_act.columns = pd.to_datetime(df_act.columns, format='%Y%m%d00')\n",
    "\n",
    "    df_prev = df_prev.loc[words]\n",
    "    df_prev = df_prev[np.isfinite(df_prev[df_prev.columns[-1]])]\n",
    "\n",
    "    result =  pd.concat([df_prev[df_prev.columns[0:91]], df_act], axis=1)\n",
    "    return result.replace(np.nan, 0, regex=True)"
   ]
  },
  {
   "cell_type": "code",
   "execution_count": 3,
   "metadata": {},
   "outputs": [],
   "source": [
    "#Create the dataframe with all the words from \"file_name\" from 2015 to 2018 in a given language\n",
    "def get_table_last_years(file_name, lang='en'):\n",
    "    arts = list(set(pd.read_csv('data/pageviews/Time_Pageviews.csv', index_col='Articles').index))\n",
    "    df_act = pd.read_csv('data/pageviews/Time_Pageviews.csv', index_col='Articles')\n",
    "    df_act = df_act[df_act.lang==lang].drop(['lang', 'name', 'name_utf'], axis = 1)\n",
    "\n",
    "    words = list(pd.read_table(file_name+'.txt', header=-1)[0])\n",
    "    df_act = df_act.loc[words]\n",
    "\n",
    "    df_act = df_act[np.isfinite(df_act[df_act.columns[-1]])]\n",
    "    df_act = df_act.replace(np.nan, 0, regex=True)\n",
    "    df_act.columns = pd.to_datetime(df_act.columns, format='%Y%m%d00')\n",
    "    return df_act"
   ]
  },
  {
   "cell_type": "markdown",
   "metadata": {},
   "source": [
    "### Dynamic Time Warping (DTW)"
   ]
  },
  {
   "cell_type": "code",
   "execution_count": 4,
   "metadata": {},
   "outputs": [],
   "source": [
    "def DTWDistance(s1, s2, w):\n",
    "    DTW={}\n",
    "    \n",
    "    w = max(w, abs(len(s1)-len(s2)))\n",
    "    \n",
    "    for i in range(-1,len(s1)):\n",
    "        for j in range(-1,len(s2)):\n",
    "            DTW[(i, j)] = float('inf')\n",
    "    DTW[(-1, -1)] = 0\n",
    "  \n",
    "    for i in range(len(s1)):\n",
    "        for j in range(max(0, i-w), min(len(s2), i+w)):\n",
    "            dist= (s1[i]-s2[j])**2\n",
    "            DTW[(i, j)] = dist + min(DTW[(i-1, j)],DTW[(i, j-1)], DTW[(i-1, j-1)])\n",
    "    return sqrt(DTW[len(s1)-1, len(s2)-1])"
   ]
  },
  {
   "cell_type": "markdown",
   "metadata": {},
   "source": [
    "### Comparing dataframes"
   ]
  },
  {
   "cell_type": "code",
   "execution_count": 5,
   "metadata": {},
   "outputs": [],
   "source": [
    "# Given a dataframe df, and a row, find the closer element in the list\n",
    "def compare_item_1_table(df, pos):\n",
    "    minim = np.Inf\n",
    "    row = 0\n",
    "    for i in [x for x in range(len(df)) if x != pos]:\n",
    "        dist = DTWDistance(df.iloc[pos], df.iloc[i], 3)\n",
    "        if (dist<minim and dist!=0.0):\n",
    "            minim = dist\n",
    "            row = i\n",
    "    return minim, row"
   ]
  },
  {
   "cell_type": "code",
   "execution_count": 6,
   "metadata": {},
   "outputs": [],
   "source": [
    "#Find for an element of df1 (which is in the row \"pos_df1\") the \"num_elem\" closer elements from df2\n",
    "def compare_item_1vsall(df1, df2, pos_df1, num_elem):\n",
    "    minim = [[np.Inf,-1]]*num_elem\n",
    "    item = df1.iloc[pos_df1]\n",
    "    for i in range(len(df2)):\n",
    "        dist = DTWDistance(item, df2.iloc[i], 3)\n",
    "        if (dist<minim[num_elem-1][0]):\n",
    "            for m in range(num_elem):\n",
    "                if dist<minim[m][0]:\n",
    "                    minim.insert(m, [dist, i])\n",
    "                    del minim[-1]\n",
    "                    break\n",
    "    return minim"
   ]
  },
  {
   "cell_type": "code",
   "execution_count": 7,
   "metadata": {},
   "outputs": [],
   "source": [
    "#Find for each element of df1, the \"num_closer\" closer elements from df2.\n",
    "#Remember in general to pass as atribute normalized dataframes.\n",
    "def dict_closer_art(df1, df2, num_closer=3):\n",
    "    closer ={}\n",
    "\n",
    "    for i in range(len(df1)):\n",
    "        closer[i] = compare_item_1vsall(df1, df2, i, num_closer)\n",
    "    return closer\n",
    "\n",
    "def sort_dict_closer(dic):\n",
    "    return sorted(dic.items(), key=operator.itemgetter(1))"
   ]
  },
  {
   "cell_type": "code",
   "execution_count": 8,
   "metadata": {},
   "outputs": [],
   "source": [
    "#Given the list of words sorted (which is returned by the method sort_dict_closer) and the number of words that wants to be returned\n",
    "#returns the number of words with distances different to zero\n",
    "def get_closer_words(sort_closer,  num_show=10):\n",
    "    i=0\n",
    "    word_dist = []\n",
    "    for elem in sort_closer:\n",
    "        if (elem[1][0][0]!=0.0):\n",
    "            word_dist.append(elem)\n",
    "            i+=1\n",
    "        if (num_show==i):\n",
    "            return word_dist\n",
    "    \n",
    "    for elem in sort_closer:\n",
    "        if (elem[1][1][0]!=0.0):\n",
    "            word_dist.append(elem)\n",
    "            i+=1\n",
    "        if (num_show==i):\n",
    "            return word_dist\n",
    "    return word_dist"
   ]
  },
  {
   "cell_type": "code",
   "execution_count": 9,
   "metadata": {},
   "outputs": [],
   "source": [
    "# Print the closest words\n",
    "def print_words(cl):\n",
    "    i=0\n",
    "    for elem in cl:\n",
    "        print(str(i)+'. Word: \\\"'+ df1.iloc[elem[0]].name+'\\\"')\n",
    "        print('Related to: \\\"'+ df2.iloc[elem[1][0][1]].name \n",
    "              +\"\\\",\\\"\"+ df2.iloc[elem[1][1][1]].name +\"\\\",\\\"\"+ df2.iloc[elem[1][2][1]].name +\"\\\"\\n\")\n",
    "        i+=1"
   ]
  },
  {
   "cell_type": "code",
   "execution_count": 10,
   "metadata": {},
   "outputs": [],
   "source": [
    "#Given the name of an article, and the dataframe, return the number of the row where it is\n",
    "def get_position(df, article):\n",
    "    return [i for i, x in enumerate(df.index==article) if x][0]"
   ]
  },
  {
   "cell_type": "markdown",
   "metadata": {},
   "source": [
    "### z-score normalization"
   ]
  },
  {
   "cell_type": "code",
   "execution_count": 11,
   "metadata": {},
   "outputs": [],
   "source": [
    "def norm(df):\n",
    "    res = df.copy().T\n",
    "    df_norm = pd.DataFrame(columns=res.columns, index=res.index)\n",
    "    cols = list(res.columns)\n",
    "    for col in cols:\n",
    "        df_norm[col] = (res[col] - res[col].mean())/res[col].std(ddof=0)\n",
    "    return df_norm.T"
   ]
  },
  {
   "cell_type": "code",
   "execution_count": 12,
   "metadata": {},
   "outputs": [],
   "source": [
    "def norm_diff_tables(df1, df2):    \n",
    "    df = pd.concat([df1, df2])\n",
    "    df = norm(df)\n",
    "    df1 = df.iloc[0:len(df1)]\n",
    "    df2 = df.iloc[len(df1):]\n",
    "    return df1, df2"
   ]
  },
  {
   "cell_type": "markdown",
   "metadata": {},
   "source": [
    "### Visualization"
   ]
  },
  {
   "cell_type": "code",
   "execution_count": 13,
   "metadata": {},
   "outputs": [],
   "source": [
    "# Plot to compare different articles in a given language\n",
    "def plot_articles(df):\n",
    "    color =[\"#e6194b\",\"#3cb44b\",\"#ffe119\",\"#0082c8\",\"#f58231\",\"#911eb4\",\"#46f0f0\",\"#f032e6\",\"#d2f53c\",\"#fabebe\",\"#008080\",\"#e6beff\",\"#aa6e28\",\"#fffac8\",\"#800000\",\"#aaffc3\",\"#808000\",\"#ffd8b1\",\"#000080\",\"#808080\",\"#FFFFFF\",\"#000000\",\"#1F77B4\", \"#B85A0D\", '#878787', \"#E377C2\", '#66ccff', '#cc0066', '#cccc00', '#98DF8A', \"#82853B\",\"#92a8d1\",\"#034f84\",\"#f7cac9\",\"#f7786b\",\"#d5f4e6\",\"#80ced6\",\"#fefbd8\",\"#618685\",\"#ffef96\",\"#50394c\",\"#b2b2b2\",\"#f4e1d2\",\"#deeaee\",\"#b1cbbb\",\"#eea29a\",\"#c94c4c\",\"#3e4444\",\"#82b74b\",\"#405d27\",\"#c1946a\",\"#b9936c\",\"#dac292\",\n",
    "\"#e6e2d3\",\"#c4b7a6\",\"#6b5b95\",\"#feb236\",\"#d64161\",\"#ff7b25\",\"#eaece5\",\"#b2c2bf\",\"#c0ded9\",\"#3b3a30\",\"#c8c3cc\",\"#563f46\",\"#8ca3a3\",\"#484f4f\",\"#686256\",\n",
    "\"#c1502e\",\"#587e76\",\"#a96e5b\",\"#bccad6\",\"#8d9db6\",\"#667292\",\"#f1e3dd\",\"#cfe0e8\",\"#b7d7e8\",\"#87bdd8\",\"#daebe8\",\"#fbefcc\",\"#f9ccac\",\"#f4a688\",\"#e0876a\",\n",
    "\"#f9d5e5\",\"#eeac99\",\"#e06377\",\"#c83349\",\"#5b9aa0\",\"#d6d4e0\",\"#b8a9c9\",\"#622569\",\"#96ceb4\",\"#ffeead\",\"#ffcc5c\",\"#ff6f69\",\"#588c7e\",\"#f2e394\",\"#f2ae72\",\"#d96459\"]\n",
    "\n",
    "    p = figure( x_axis_type='datetime',plot_width = 970, title=\"Number of users who viewed the article\")\n",
    "\n",
    "    for i, art in enumerate(list(df.index)):\n",
    "        p.line(list(df.columns), list(df.loc[art, :]), color=color[i], legend=value(art), line_width=1.5)\n",
    "        p.circle(list(df.columns), list(df.loc[art, :]), color=color[i], fill_alpha=0.2, legend=value(art), size=4)\n",
    "        #p.vbar(x=dodge('articles', pos[i], range=p.x_range), top=art, width=0.17, source=source, \n",
    "            #color=color[i], legend=value(art))\n",
    "    p.xaxis.major_label_orientation = math.pi/3\n",
    "    p.grid.grid_line_alpha=1\n",
    "    p.x_range.range_padding = 0.01\n",
    "    p.legend.location = \"top_left\"\n",
    "    p.legend.click_policy=\"hide\"\n",
    "    show(p)"
   ]
  },
  {
   "cell_type": "markdown",
   "metadata": {},
   "source": [
    "### Saving data"
   ]
  },
  {
   "cell_type": "code",
   "execution_count": 14,
   "metadata": {},
   "outputs": [],
   "source": [
    "def save_obj(obj, name ):\n",
    "    with open(name + '.pkl', 'wb') as f:\n",
    "        pickle.dump(obj, f, pickle.HIGHEST_PROTOCOL)\n",
    "\n",
    "def load_obj(name ):\n",
    "    with open(name + '.pkl', 'rb') as f:\n",
    "        return pickle.load(f)"
   ]
  },
  {
   "cell_type": "markdown",
   "metadata": {},
   "source": [
    "### Loading dataset"
   ]
  },
  {
   "cell_type": "code",
   "execution_count": 16,
   "metadata": {
    "scrolled": true
   },
   "outputs": [],
   "source": [
    "def loading_data_distances(TOPIC=1, ALL_YEARS=False):\n",
    "    '''\n",
    "    Return the dataset with the distances from an article to another\n",
    "    \n",
    "    Options Availables:\n",
    "\n",
    "    #TOPIC: \n",
    "    =0 : comparing tech with social\n",
    "    =1 : comparing social with tech\n",
    "    =2 : comparing social with social \n",
    "\n",
    "    #ALL_YEARS:\n",
    "    =True : Do the trending analysis with all the years that are available (X 2017)\n",
    "    =False : Do the trending analysis since July 2015    \n",
    "    '''\n",
    "    \n",
    "    if (TOPIC==0):   \n",
    "        #Preparing the data\n",
    "        file_name1 = 'NGI_technology_keywords'\n",
    "        file_name2 = 'NGI_social_keywords'\n",
    "        path = 'data/dist/dist_tech_with_social'\n",
    "\n",
    "    elif (TOPIC==1):\n",
    "        #Preparing the data\n",
    "        file_name1 = 'NGI_social_keywords'\n",
    "        #file_name = 'Trending_keywords'\n",
    "        file_name2 = 'NGI_technology_keywords'\n",
    "        path = 'data/dist/dist_social_with_tech'\n",
    "\n",
    "    else:\n",
    "        #Preparing the data\n",
    "        file_name1 = 'NGI_social_keywords'\n",
    "        #file_name = 'Trending_keywords'\n",
    "        file_name2 = 'NGI_social_keywords'\n",
    "        path = 'data/dist/dist_social_with_social'\n",
    "\n",
    "    #Loading the dataset from all the available years\n",
    "    if ALL_YEARS:\n",
    "        #Loading the data\n",
    "        df1 = joining_tables('data/list_words_txt/'+file_name1)\n",
    "        df2 = joining_tables('data/list_words_txt/'+file_name2)\n",
    "\n",
    "    #Loading the dataset from the last years\n",
    "    else:\n",
    "        df1 = get_table_last_years('data/list_words_txt/'+file_name1)\n",
    "        df2 = get_table_last_years('data/list_words_txt/'+file_name2)\n",
    "\n",
    "    #normalizing the data\n",
    "    df1_norm, df2_norm = norm_diff_tables(df1, df2)\n",
    "    closer = load_obj(path)\n",
    "\n",
    "    sorted_closer = sort_dict_closer(closer)\n",
    "    cl = get_closer_words(sorted_closer, num_show=10)\n",
    "    return df1_norm, df2_norm, df1, df2, cl"
   ]
  },
  {
   "cell_type": "code",
   "execution_count": 17,
   "metadata": {},
   "outputs": [],
   "source": [
    "#Processing the dataset to print.\n",
    "#num_closer: Number of closer articles to print (1<=num_closer<=10)\n",
    "#pos_article: Position of the article to print\n",
    "def loading_dataset_x_closer(num_closer=5, pos_article=1, plot_normalized=True):\n",
    "    if plot_normalized:\n",
    "        df_plot1 = df1_norm\n",
    "        df_plot2 = df2_norm\n",
    "    else:\n",
    "        df_plot1 = df1\n",
    "        df_plot2 = df2\n",
    "    data_print = [df_plot1.iloc[cl[pos_article][0]]]\n",
    "    for i in range(num_closer):\n",
    "        data_print.append(df_plot2.iloc[cl[pos_article][1][i][1]])\n",
    "    return pd.concat(data_print, axis=1).T.drop_duplicates(subset=None, keep='first', inplace=False)"
   ]
  },
  {
   "cell_type": "markdown",
   "metadata": {},
   "source": [
    "## Creating distances"
   ]
  },
  {
   "cell_type": "markdown",
   "metadata": {},
   "source": [
    "### Creating data. Social and tech"
   ]
  },
  {
   "cell_type": "code",
   "execution_count": 18,
   "metadata": {},
   "outputs": [
    {
     "data": {
      "text/plain": [
       "\"\\n#Preparing the data\\nfile_name1 = 'NGI_social_keywords'\\n#file_name = 'Trending_keywords'\\nfile_name2 = 'NGI_technology_keywords'\\n\\n\\n#-----------------------------------------------\\n##ALL THE YEARS\\n##Loading the data\\n#tech = joining_tables('data/list_words_txt/'+file_name1)\\n#social = joining_tables('data/list_words_txt/'+file_name2)\\n\\n\\n\\n#-----------------------------------------------\\n#LAST YEARS\\n#Loading the data\\ntech = get_table_last_years('data/list_words_txt/'+file_name1)\\nsocial = get_table_last_years('data/list_words_txt/'+file_name2)\\n\\n\\n#normalizing the data\\ntech_norm, social_norm = norm_diff_tables(tech, social)\\n\\n\\ncloser = dict_closer_art(tech_norm, social_norm, num_closer=10)\\nsave_obj(closer, 'data/dist/dist_last_years_social_with_tech')\\n#dist_tech\\n\""
      ]
     },
     "execution_count": 18,
     "metadata": {},
     "output_type": "execute_result"
    }
   ],
   "source": [
    "'''\n",
    "#Preparing the data\n",
    "file_name1 = 'NGI_social_keywords'\n",
    "#file_name = 'Trending_keywords'\n",
    "file_name2 = 'NGI_technology_keywords'\n",
    "\n",
    "\n",
    "#-----------------------------------------------\n",
    "##ALL THE YEARS\n",
    "##Loading the data\n",
    "#tech = joining_tables('data/list_words_txt/'+file_name1)\n",
    "#social = joining_tables('data/list_words_txt/'+file_name2)\n",
    "\n",
    "\n",
    "\n",
    "#-----------------------------------------------\n",
    "#LAST YEARS\n",
    "#Loading the data\n",
    "tech = get_table_last_years('data/list_words_txt/'+file_name1)\n",
    "social = get_table_last_years('data/list_words_txt/'+file_name2)\n",
    "\n",
    "\n",
    "#normalizing the data\n",
    "tech_norm, social_norm = norm_diff_tables(tech, social)\n",
    "\n",
    "\n",
    "closer = dict_closer_art(tech_norm, social_norm, num_closer=10)\n",
    "save_obj(closer, 'data/dist/dist_last_years_social_with_tech')\n",
    "#dist_tech\n",
    "'''\n"
   ]
  },
  {
   "cell_type": "markdown",
   "metadata": {},
   "source": [
    "### Creating list of distances. Comparing social dataset with social dataset"
   ]
  },
  {
   "cell_type": "markdown",
   "metadata": {},
   "source": [
    "#### For the last years"
   ]
  },
  {
   "cell_type": "code",
   "execution_count": 19,
   "metadata": {},
   "outputs": [
    {
     "data": {
      "text/plain": [
       "\"\\n#Preparing the data\\nfile_name1 = 'NGI_social_keywords'\\n#file_name = 'Trending_keywords'\\nfile_name2 = 'NGI_social_keywords'\\n\\n\\n##-----------------------------------------------\\n##ALL THE YEARS\\n##Loading the data\\n#tech = joining_tables('data/list_words_txt/'+file_name1)\\n#social = joining_tables('data/list_words_txt/'+file_name2)\\n\\n\\n#-----------------------------------------------\\n#LAST YEARS\\n#Loading the data\\nsocial1 = get_table_last_years('data/list_words_txt/'+file_name1)\\nsocial2 = get_table_last_years('data/list_words_txt/'+file_name2)\\n\\n\\n#normalizing the data\\nsocial_norm1, social_norm2 = norm_diff_tables(social1, social2)\\n\\ncloser = dict_closer_art(social_norm1, social_norm2, num_closer=10)\\nsave_obj(closer, 'data/dist/dist_last_years_social_with_social')\\n#dist_tech\\n\""
      ]
     },
     "execution_count": 19,
     "metadata": {},
     "output_type": "execute_result"
    }
   ],
   "source": [
    "'''\n",
    "#Preparing the data\n",
    "file_name1 = 'NGI_social_keywords'\n",
    "#file_name = 'Trending_keywords'\n",
    "file_name2 = 'NGI_social_keywords'\n",
    "\n",
    "\n",
    "##-----------------------------------------------\n",
    "##ALL THE YEARS\n",
    "##Loading the data\n",
    "#tech = joining_tables('data/list_words_txt/'+file_name1)\n",
    "#social = joining_tables('data/list_words_txt/'+file_name2)\n",
    "\n",
    "\n",
    "#-----------------------------------------------\n",
    "#LAST YEARS\n",
    "#Loading the data\n",
    "social1 = get_table_last_years('data/list_words_txt/'+file_name1)\n",
    "social2 = get_table_last_years('data/list_words_txt/'+file_name2)\n",
    "\n",
    "\n",
    "#normalizing the data\n",
    "social_norm1, social_norm2 = norm_diff_tables(social1, social2)\n",
    "\n",
    "closer = dict_closer_art(social_norm1, social_norm2, num_closer=10)\n",
    "save_obj(closer, 'data/dist/dist_last_years_social_with_social')\n",
    "#dist_tech\n",
    "'''"
   ]
  },
  {
   "cell_type": "markdown",
   "metadata": {},
   "source": [
    "##### For all the years"
   ]
  },
  {
   "cell_type": "code",
   "execution_count": 20,
   "metadata": {},
   "outputs": [
    {
     "data": {
      "text/plain": [
       "\"\\n#Preparing the data\\nfile_name1 = 'NGI_social_keywords'\\n#file_name = 'Trending_keywords'\\nfile_name2 = 'NGI_social_keywords'\\n\\n\\n##-----------------------------------------------\\n##ALL THE YEARS\\n##Loading the data\\n#tech = joining_tables(file_name1)\\n#social = joining_tables(file_name2)\\n\\n\\n#-----------------------------------------------\\n#ALL THE YEARS\\n#Loading the data\\nsocial1 = joining_tables('data/list_words_txt/'+file_name1)\\nsocial2 = joining_tables('data/list_words_txt/'+file_name2)\\n\\n#normalizing the data\\nsocial_norm1, social_norm2 = norm_diff_tables(social1, social2)\\n\\ncloser = dict_closer_art(social_norm1, social_norm2, num_closer=10)\\nsave_obj(closer, 'data/dist/dist_social_with_social')\\n\""
      ]
     },
     "execution_count": 20,
     "metadata": {},
     "output_type": "execute_result"
    }
   ],
   "source": [
    "'''\n",
    "#Preparing the data\n",
    "file_name1 = 'NGI_social_keywords'\n",
    "#file_name = 'Trending_keywords'\n",
    "file_name2 = 'NGI_social_keywords'\n",
    "\n",
    "\n",
    "##-----------------------------------------------\n",
    "##ALL THE YEARS\n",
    "##Loading the data\n",
    "#tech = joining_tables(file_name1)\n",
    "#social = joining_tables(file_name2)\n",
    "\n",
    "\n",
    "#-----------------------------------------------\n",
    "#ALL THE YEARS\n",
    "#Loading the data\n",
    "social1 = joining_tables('data/list_words_txt/'+file_name1)\n",
    "social2 = joining_tables('data/list_words_txt/'+file_name2)\n",
    "\n",
    "#normalizing the data\n",
    "social_norm1, social_norm2 = norm_diff_tables(social1, social2)\n",
    "\n",
    "closer = dict_closer_art(social_norm1, social_norm2, num_closer=10)\n",
    "save_obj(closer, 'data/dist/dist_social_with_social')\n",
    "'''"
   ]
  },
  {
   "cell_type": "markdown",
   "metadata": {},
   "source": [
    "## Testing"
   ]
  },
  {
   "cell_type": "code",
   "execution_count": 21,
   "metadata": {},
   "outputs": [
    {
     "name": "stderr",
     "output_type": "stream",
     "text": [
      "/home/laura.portell/anaconda3/lib/python3.6/site-packages/ipykernel_launcher.py:8: FutureWarning: \n",
      "Passing list-likes to .loc or [] with any missing label will raise\n",
      "KeyError in the future, you can use .reindex() as an alternative.\n",
      "\n",
      "See the documentation here:\n",
      "http://pandas.pydata.org/pandas-docs/stable/indexing.html#deprecate-loc-reindex-listlike\n",
      "  \n"
     ]
    },
    {
     "data": {
      "text/html": [
       "\n",
       "<div class=\"bk-root\">\n",
       "    <div class=\"bk-plotdiv\" id=\"4cc96e94-3931-446c-939e-44e344284ed7\"></div>\n",
       "</div>"
      ]
     },
     "metadata": {},
     "output_type": "display_data"
    },
    {
     "data": {
      "application/javascript": [
       "(function(root) {\n",
       "  function embed_document(root) {\n",
       "    \n",
       "  var docs_json = {\"0f452ee3-eb71-4103-95b4-44793ac82a3d\":{\"roots\":{\"references\":[{\"attributes\":{\"callback\":null,\"column_names\":[\"x\",\"y\"],\"data\":{\"x\":[1435708800000.0,1438387200000.0,1441065600000.0,1443657600000.0,1446336000000.0,1448928000000.0,1451606400000.0,1454284800000.0,1456790400000.0,1459468800000.0,1462060800000.0,1464739200000.0,1467331200000.0,1470009600000.0,1472688000000.0,1475280000000.0,1477958400000.0,1480550400000.0,1483228800000.0,1485907200000.0,1488326400000.0,1491004800000.0,1493596800000.0,1496275200000.0,1498867200000.0,1501545600000.0,1504224000000.0,1506816000000.0,1509494400000.0,1512086400000.0,1514764800000.0,1517443200000.0,1519862400000.0,1522540800000.0,1525132800000.0,1527811200000.0],\"y\":[-0.3332143050636245,-1.0616990205873384,-0.09480112543768174,1.3136026579081652,0.3378746449945847,-0.8586063120170909,0.3025541739388895,1.2341315980328509,2.8367979721850216,0.9471527707053272,1.7506934872223936,-0.019745124444329396,-0.5892877202174148,0.30696923282085137,0.549797471328756,0.9957184184069082,0.8323612397743178,0.1347819364243372,0.01116028772940392,-0.15661194978514836,1.145830420393613,-0.6952491333845005,0.24957346735534666,-0.8188707820794338,-1.3707531423246715,-1.3795832600885953,-0.8409460764892432,0.19659276077180382,1.088434654928108,-1.3795832600885953,-0.1919324208408436,-0.9380773718924051,-0.07714088990983413,-0.5937027790993767,-0.8497761942531671,-1.984446326917376]},\"selected\":null,\"selection_policy\":null},\"id\":\"da891a6c-1dfd-4ab4-9675-ecfead6dc743\",\"type\":\"ColumnDataSource\"},{\"attributes\":{},\"id\":\"3a843e02-b9c7-42b0-9c87-38400ccbee74\",\"type\":\"WheelZoomTool\"},{\"attributes\":{\"fill_alpha\":{\"value\":0.1},\"fill_color\":{\"value\":\"#1f77b4\"},\"line_alpha\":{\"value\":0.1},\"line_color\":{\"value\":\"#1f77b4\"},\"x\":{\"field\":\"x\"},\"y\":{\"field\":\"y\"}},\"id\":\"0b2311a7-985c-4099-b2bb-0f6cf019218f\",\"type\":\"Circle\"},{\"attributes\":{\"data_source\":{\"id\":\"70bfafdd-246c-412e-bb51-d03b0b649282\",\"type\":\"ColumnDataSource\"},\"glyph\":{\"id\":\"dfd65208-70ff-4689-86ca-501f09f297ea\",\"type\":\"Circle\"},\"hover_glyph\":null,\"muted_glyph\":null,\"nonselection_glyph\":{\"id\":\"9045af6c-530f-4f7d-a50e-96d7b253fd63\",\"type\":\"Circle\"},\"selection_glyph\":null,\"view\":{\"id\":\"49cabbaf-9da8-4be1-89b6-cbcf064616be\",\"type\":\"CDSView\"}},\"id\":\"8ea935b8-1f22-486d-9898-01f7e16912a5\",\"type\":\"GlyphRenderer\"},{\"attributes\":{\"callback\":null,\"column_names\":[\"x\",\"y\"],\"data\":{\"x\":[1435708800000.0,1438387200000.0,1441065600000.0,1443657600000.0,1446336000000.0,1448928000000.0,1451606400000.0,1454284800000.0,1456790400000.0,1459468800000.0,1462060800000.0,1464739200000.0,1467331200000.0,1470009600000.0,1472688000000.0,1475280000000.0,1477958400000.0,1480550400000.0,1483228800000.0,1485907200000.0,1488326400000.0,1491004800000.0,1493596800000.0,1496275200000.0,1498867200000.0,1501545600000.0,1504224000000.0,1506816000000.0,1509494400000.0,1512086400000.0,1514764800000.0,1517443200000.0,1519862400000.0,1522540800000.0,1525132800000.0,1527811200000.0],\"y\":[-1.6831457126136204,-1.712945039152617,-0.6702890331537492,0.901064701762799,-0.19349980852980475,-1.1044620165982686,-0.27104214210439787,-0.33192248664643376,0.5319375601184548,0.6719623525651375,0.4601628381320546,-0.6331199806965062,-1.0704971928011326,-0.7183524630553565,1.1705403320778105,1.0830648896568853,0.9093956962790776,0.5040607707755226,0.0743737074551533,-0.18356669968347256,1.4313645450105328,3.009767582979317,0.23266260326444668,-1.3399728231161443,-0.9051589939396035,-1.1650219382742937,-0.6959228624346064,1.5127519529772546,1.3692025090044542,0.0868701992295712,-0.14607722436021886,-0.50046491416807,0.20318369959146088,-0.20279207164411547,0.19805693373528943,-0.8221694716428283]},\"selected\":null,\"selection_policy\":null},\"id\":\"6f51d500-cb2c-47b9-80b1-bd216e03158c\",\"type\":\"ColumnDataSource\"},{\"attributes\":{\"data_source\":{\"id\":\"9414f287-ceb0-4160-bf2b-334fd96b60ca\",\"type\":\"ColumnDataSource\"},\"glyph\":{\"id\":\"d9f26038-e81f-4009-82c6-96f1caffa8e5\",\"type\":\"Circle\"},\"hover_glyph\":null,\"muted_glyph\":null,\"nonselection_glyph\":{\"id\":\"2298e6f8-c2e1-4a34-b399-d447e5f16cce\",\"type\":\"Circle\"},\"selection_glyph\":null,\"view\":{\"id\":\"f3936e60-b0ee-4882-9bb4-7a3aed1d3308\",\"type\":\"CDSView\"}},\"id\":\"4f632045-dfce-43b1-9861-0a537f41d925\",\"type\":\"GlyphRenderer\"},{\"attributes\":{\"data_source\":{\"id\":\"da891a6c-1dfd-4ab4-9675-ecfead6dc743\",\"type\":\"ColumnDataSource\"},\"glyph\":{\"id\":\"4d464c67-c353-416c-befb-03666410e4e6\",\"type\":\"Circle\"},\"hover_glyph\":null,\"muted_glyph\":null,\"nonselection_glyph\":{\"id\":\"0b2311a7-985c-4099-b2bb-0f6cf019218f\",\"type\":\"Circle\"},\"selection_glyph\":null,\"view\":{\"id\":\"9abfa811-412a-4be5-9e58-9464879e2ec7\",\"type\":\"CDSView\"}},\"id\":\"104c35b1-c5f7-4c2c-8c82-e1be19d67504\",\"type\":\"GlyphRenderer\"},{\"attributes\":{\"plot\":null,\"text\":\"Number of users who viewed the article\"},\"id\":\"97a463dd-4b76-4974-8286-4256da1b0e91\",\"type\":\"Title\"},{\"attributes\":{\"label\":{\"value\":\"Speech_recognition\"},\"renderers\":[{\"id\":\"fe8a7408-1dc7-4454-8625-f79e564d8d0d\",\"type\":\"GlyphRenderer\"},{\"id\":\"aa1baea5-a256-44a4-8e3a-7534a2efc7be\",\"type\":\"GlyphRenderer\"}]},\"id\":\"61c4ef39-2e3a-487b-adae-a88bbd8386c5\",\"type\":\"LegendItem\"},{\"attributes\":{\"fill_alpha\":{\"value\":0.2},\"fill_color\":{\"value\":\"#0082c8\"},\"line_color\":{\"value\":\"#0082c8\"},\"x\":{\"field\":\"x\"},\"y\":{\"field\":\"y\"}},\"id\":\"d9f26038-e81f-4009-82c6-96f1caffa8e5\",\"type\":\"Circle\"},{\"attributes\":{\"fill_alpha\":{\"value\":0.1},\"fill_color\":{\"value\":\"#1f77b4\"},\"line_alpha\":{\"value\":0.1},\"line_color\":{\"value\":\"#1f77b4\"},\"x\":{\"field\":\"x\"},\"y\":{\"field\":\"y\"}},\"id\":\"aa0f6e61-d819-4975-95ab-684ca4695e87\",\"type\":\"Circle\"},{\"attributes\":{\"label\":{\"value\":\"IEEE_802.15\"},\"renderers\":[{\"id\":\"80f1894e-8674-4077-b492-eb4006fda74f\",\"type\":\"GlyphRenderer\"},{\"id\":\"4f632045-dfce-43b1-9861-0a537f41d925\",\"type\":\"GlyphRenderer\"}]},\"id\":\"e02de7bb-3d00-4c08-b624-9b24fa9ae2e7\",\"type\":\"LegendItem\"},{\"attributes\":{\"line_alpha\":0.1,\"line_color\":\"#1f77b4\",\"line_width\":1.5,\"x\":{\"field\":\"x\"},\"y\":{\"field\":\"y\"}},\"id\":\"6700094f-c33a-4004-b06f-7578841e7d95\",\"type\":\"Line\"},{\"attributes\":{\"fill_alpha\":{\"value\":0.2},\"fill_color\":{\"value\":\"#911eb4\"},\"line_color\":{\"value\":\"#911eb4\"},\"x\":{\"field\":\"x\"},\"y\":{\"field\":\"y\"}},\"id\":\"dfd65208-70ff-4689-86ca-501f09f297ea\",\"type\":\"Circle\"},{\"attributes\":{\"plot\":{\"id\":\"1032f288-8c25-4d5b-b3ce-e6da53939847\",\"subtype\":\"Figure\",\"type\":\"Plot\"},\"ticker\":{\"id\":\"8b095863-4ed3-40c6-b61a-ece0769af49b\",\"type\":\"DatetimeTicker\"}},\"id\":\"7bfab25b-57a2-409d-8878-6f0ee2471277\",\"type\":\"Grid\"},{\"attributes\":{\"callback\":null,\"column_names\":[\"x\",\"y\"],\"data\":{\"x\":[1435708800000.0,1438387200000.0,1441065600000.0,1443657600000.0,1446336000000.0,1448928000000.0,1451606400000.0,1454284800000.0,1456790400000.0,1459468800000.0,1462060800000.0,1464739200000.0,1467331200000.0,1470009600000.0,1472688000000.0,1475280000000.0,1477958400000.0,1480550400000.0,1483228800000.0,1485907200000.0,1488326400000.0,1491004800000.0,1493596800000.0,1496275200000.0,1498867200000.0,1501545600000.0,1504224000000.0,1506816000000.0,1509494400000.0,1512086400000.0,1514764800000.0,1517443200000.0,1519862400000.0,1522540800000.0,1525132800000.0,1527811200000.0],\"y\":[-0.3332143050636245,-1.0616990205873384,-0.09480112543768174,1.3136026579081652,0.3378746449945847,-0.8586063120170909,0.3025541739388895,1.2341315980328509,2.8367979721850216,0.9471527707053272,1.7506934872223936,-0.019745124444329396,-0.5892877202174148,0.30696923282085137,0.549797471328756,0.9957184184069082,0.8323612397743178,0.1347819364243372,0.01116028772940392,-0.15661194978514836,1.145830420393613,-0.6952491333845005,0.24957346735534666,-0.8188707820794338,-1.3707531423246715,-1.3795832600885953,-0.8409460764892432,0.19659276077180382,1.088434654928108,-1.3795832600885953,-0.1919324208408436,-0.9380773718924051,-0.07714088990983413,-0.5937027790993767,-0.8497761942531671,-1.984446326917376]},\"selected\":null,\"selection_policy\":null},\"id\":\"f882071a-f5eb-454c-9cc5-4076c5dc36d2\",\"type\":\"ColumnDataSource\"},{\"attributes\":{\"label\":{\"value\":\"Resilience_(network)\"},\"renderers\":[{\"id\":\"6718a24a-df54-421b-bb0d-93dce2357e31\",\"type\":\"GlyphRenderer\"},{\"id\":\"104c35b1-c5f7-4c2c-8c82-e1be19d67504\",\"type\":\"GlyphRenderer\"}]},\"id\":\"0c72ef6b-49b2-491d-982c-64e8de1064d6\",\"type\":\"LegendItem\"},{\"attributes\":{\"line_color\":\"#911eb4\",\"line_width\":1.5,\"x\":{\"field\":\"x\"},\"y\":{\"field\":\"y\"}},\"id\":\"5185cbcb-819b-4c2f-90bc-1182b95a4a57\",\"type\":\"Line\"},{\"attributes\":{\"active_drag\":\"auto\",\"active_inspect\":\"auto\",\"active_scroll\":\"auto\",\"active_tap\":\"auto\",\"tools\":[{\"id\":\"52ebb484-0a48-4175-94ee-0cca33fe78bf\",\"type\":\"PanTool\"},{\"id\":\"3a843e02-b9c7-42b0-9c87-38400ccbee74\",\"type\":\"WheelZoomTool\"},{\"id\":\"bb9034a2-38b0-4601-b520-c7dc15dcf826\",\"type\":\"BoxZoomTool\"},{\"id\":\"d8cd51ee-fdf0-425a-85b2-e91ea81f382d\",\"type\":\"SaveTool\"},{\"id\":\"c9150243-b858-458f-b740-49be3a0d21d9\",\"type\":\"ResetTool\"},{\"id\":\"4b7806be-f920-411c-917c-a6165d117c73\",\"type\":\"HelpTool\"}]},\"id\":\"97663c66-354c-4bf3-a1fa-3ea90d713c74\",\"type\":\"Toolbar\"},{\"attributes\":{\"callback\":null,\"column_names\":[\"x\",\"y\"],\"data\":{\"x\":[1435708800000.0,1438387200000.0,1441065600000.0,1443657600000.0,1446336000000.0,1448928000000.0,1451606400000.0,1454284800000.0,1456790400000.0,1459468800000.0,1462060800000.0,1464739200000.0,1467331200000.0,1470009600000.0,1472688000000.0,1475280000000.0,1477958400000.0,1480550400000.0,1483228800000.0,1485907200000.0,1488326400000.0,1491004800000.0,1493596800000.0,1496275200000.0,1498867200000.0,1501545600000.0,1504224000000.0,1506816000000.0,1509494400000.0,1512086400000.0,1514764800000.0,1517443200000.0,1519862400000.0,1522540800000.0,1525132800000.0,1527811200000.0],\"y\":[-1.1628776160992365,-0.8502635167249954,-0.6078997767606962,-0.36413102960819815,-1.0863047243423998,-1.2211854144094882,-0.7181928410343048,-0.995681760703575,-1.0132443505560604,-0.37185856914329174,-0.5896346833141113,-1.1642826232874353,-1.02588941524985,-0.5868246689377137,-1.0118393433678616,-0.553807000015041,2.504893648693825,-0.44562144652373065,-0.4610765255939178,-0.3493784541321104,0.5013533983222849,-0.09717966385041928,0.06790868076294396,-0.4933916909224911,0.1676641911250613,0.2491546080405938,0.9748408207452927,0.9980234393505735,1.2937774524664285,0.7128069801462097,1.6977170190735937,0.3187024638564362,1.2902649344959314,1.165219294746235,0.9446331661990177,2.2836050165525084]},\"selected\":null,\"selection_policy\":null},\"id\":\"3aa95506-2a6e-471a-9f64-5d131ccd6e30\",\"type\":\"ColumnDataSource\"},{\"attributes\":{\"callback\":null,\"column_names\":[\"x\",\"y\"],\"data\":{\"x\":[1435708800000.0,1438387200000.0,1441065600000.0,1443657600000.0,1446336000000.0,1448928000000.0,1451606400000.0,1454284800000.0,1456790400000.0,1459468800000.0,1462060800000.0,1464739200000.0,1467331200000.0,1470009600000.0,1472688000000.0,1475280000000.0,1477958400000.0,1480550400000.0,1483228800000.0,1485907200000.0,1488326400000.0,1491004800000.0,1493596800000.0,1496275200000.0,1498867200000.0,1501545600000.0,1504224000000.0,1506816000000.0,1509494400000.0,1512086400000.0,1514764800000.0,1517443200000.0,1519862400000.0,1522540800000.0,1525132800000.0,1527811200000.0],\"y\":[-0.8002037508542204,-0.7152803177280526,0.32601162383434373,0.7898242201387988,0.28028362138179186,-0.5179966500041857,1.0374086905604727,2.502011283397921,1.710916840968773,0.1395066995457213,0.18915424506563483,-0.5718903671804076,-1.3871553251916189,-0.8230677520804963,0.21495790359243197,1.1961501847886171,0.5768623801454856,-0.7240992896296161,0.12872795611047694,-0.10481148498648458,0.5820884375686345,-1.1627614845851677,-0.9471866158802801,-1.8868970662802218,-0.22795046301942795,-0.02707388081714634,-0.31254726755664897,0.5922139238259853,1.2291396722722439,-0.47422841908531466,1.8729246210863855,0.6428413551127391,0.16596361525041206,-0.5016652205568458,-0.7544757484016685,-2.2376961708090843]},\"selected\":null,\"selection_policy\":null},\"id\":\"70bfafdd-246c-412e-bb51-d03b0b649282\",\"type\":\"ColumnDataSource\"},{\"attributes\":{},\"id\":\"a09fc4ab-3f0d-45ca-8a17-285ac09bbf8e\",\"type\":\"YearsTicker\"},{\"attributes\":{\"days\":[1,4,7,10,13,16,19,22,25,28]},\"id\":\"20251fa1-90b0-49e8-82ff-587213f22758\",\"type\":\"DaysTicker\"},{\"attributes\":{\"source\":{\"id\":\"316af6df-c00d-4846-bad4-73032e5e2fa2\",\"type\":\"ColumnDataSource\"}},\"id\":\"a36634aa-0398-4ab4-9137-51d2d0ed7170\",\"type\":\"CDSView\"},{\"attributes\":{\"source\":{\"id\":\"9ae0fa85-de84-4bc5-b0d0-442008e21425\",\"type\":\"ColumnDataSource\"}},\"id\":\"8d376038-2ca6-4501-82b4-22fd508a0921\",\"type\":\"CDSView\"},{\"attributes\":{\"source\":{\"id\":\"287c28f2-6afc-4614-b93b-1c3557dd8f83\",\"type\":\"ColumnDataSource\"}},\"id\":\"a45bf8ba-397b-43b4-9c3b-7d9b1f95ea65\",\"type\":\"CDSView\"},{\"attributes\":{\"line_alpha\":0.1,\"line_color\":\"#1f77b4\",\"line_width\":1.5,\"x\":{\"field\":\"x\"},\"y\":{\"field\":\"y\"}},\"id\":\"7fbbb63d-c68f-47a0-810c-f310d3bd6db7\",\"type\":\"Line\"},{\"attributes\":{\"line_color\":\"#0082c8\",\"line_width\":1.5,\"x\":{\"field\":\"x\"},\"y\":{\"field\":\"y\"}},\"id\":\"23bcfa8f-e00e-4c2e-9e5e-c2fb97b0caff\",\"type\":\"Line\"},{\"attributes\":{\"dimension\":1,\"plot\":{\"id\":\"1032f288-8c25-4d5b-b3ce-e6da53939847\",\"subtype\":\"Figure\",\"type\":\"Plot\"},\"ticker\":{\"id\":\"3361a019-620c-4613-9816-efb2b247b724\",\"type\":\"BasicTicker\"}},\"id\":\"d416725b-f48c-462c-8c55-1cad4c0c3ab6\",\"type\":\"Grid\"},{\"attributes\":{\"fill_alpha\":{\"value\":0.2},\"fill_color\":{\"value\":\"#ffe119\"},\"line_color\":{\"value\":\"#ffe119\"},\"x\":{\"field\":\"x\"},\"y\":{\"field\":\"y\"}},\"id\":\"deb3b3d5-151c-494e-9ca0-f25cc97c1aa5\",\"type\":\"Circle\"},{\"attributes\":{\"label\":{\"value\":\"Smart_grid\"},\"renderers\":[{\"id\":\"94cf9e05-d72f-4502-9c15-dc0cb9c2eaf4\",\"type\":\"GlyphRenderer\"},{\"id\":\"8ea935b8-1f22-486d-9898-01f7e16912a5\",\"type\":\"GlyphRenderer\"}]},\"id\":\"4d2f018c-9cb7-4df2-bb55-c086a3a552e7\",\"type\":\"LegendItem\"},{\"attributes\":{\"source\":{\"id\":\"f882071a-f5eb-454c-9cc5-4076c5dc36d2\",\"type\":\"ColumnDataSource\"}},\"id\":\"90a9b311-e2ee-4f9c-babb-490221674fed\",\"type\":\"CDSView\"},{\"attributes\":{\"callback\":null,\"column_names\":[\"x\",\"y\"],\"data\":{\"x\":[1435708800000.0,1438387200000.0,1441065600000.0,1443657600000.0,1446336000000.0,1448928000000.0,1451606400000.0,1454284800000.0,1456790400000.0,1459468800000.0,1462060800000.0,1464739200000.0,1467331200000.0,1470009600000.0,1472688000000.0,1475280000000.0,1477958400000.0,1480550400000.0,1483228800000.0,1485907200000.0,1488326400000.0,1491004800000.0,1493596800000.0,1496275200000.0,1498867200000.0,1501545600000.0,1504224000000.0,1506816000000.0,1509494400000.0,1512086400000.0,1514764800000.0,1517443200000.0,1519862400000.0,1522540800000.0,1525132800000.0,1527811200000.0],\"y\":[-1.6831457126136204,-1.712945039152617,-0.6702890331537492,0.901064701762799,-0.19349980852980475,-1.1044620165982686,-0.27104214210439787,-0.33192248664643376,0.5319375601184548,0.6719623525651375,0.4601628381320546,-0.6331199806965062,-1.0704971928011326,-0.7183524630553565,1.1705403320778105,1.0830648896568853,0.9093956962790776,0.5040607707755226,0.0743737074551533,-0.18356669968347256,1.4313645450105328,3.009767582979317,0.23266260326444668,-1.3399728231161443,-0.9051589939396035,-1.1650219382742937,-0.6959228624346064,1.5127519529772546,1.3692025090044542,0.0868701992295712,-0.14607722436021886,-0.50046491416807,0.20318369959146088,-0.20279207164411547,0.19805693373528943,-0.8221694716428283]},\"selected\":null,\"selection_policy\":null},\"id\":\"287c28f2-6afc-4614-b93b-1c3557dd8f83\",\"type\":\"ColumnDataSource\"},{\"attributes\":{\"callback\":null,\"column_names\":[\"x\",\"y\"],\"data\":{\"x\":[1435708800000.0,1438387200000.0,1441065600000.0,1443657600000.0,1446336000000.0,1448928000000.0,1451606400000.0,1454284800000.0,1456790400000.0,1459468800000.0,1462060800000.0,1464739200000.0,1467331200000.0,1470009600000.0,1472688000000.0,1475280000000.0,1477958400000.0,1480550400000.0,1483228800000.0,1485907200000.0,1488326400000.0,1491004800000.0,1493596800000.0,1496275200000.0,1498867200000.0,1501545600000.0,1504224000000.0,1506816000000.0,1509494400000.0,1512086400000.0,1514764800000.0,1517443200000.0,1519862400000.0,1522540800000.0,1525132800000.0,1527811200000.0],\"y\":[-1.6196271694327538,-1.0690112876466369,-0.2835739268634998,1.0251509539259285,0.7812200210022996,-0.12061591773194684,0.9998469152409047,0.7994389288555167,1.5332560507212054,1.340945356715025,1.1243427855712216,-0.19652803378701808,-1.6155785232431499,-1.23196929677819,-0.6884385458238798,0.26602979337521604,1.255923786733345,-0.13984698713256488,-0.2694036651998865,-0.1479442795117725,1.6941897367579564,1.2873007947027746,0.9654334226292725,-1.092291003236859,-1.2157747120197746,-1.4263043138791722,-1.2177990351145767,0.37331891739971673,0.4431580641703823,-1.0042329486129762,-0.4262887050470337,-0.3321576811387454,0.6152255272285437,0.6648214430511903,0.5463985420052792,-1.6186150078853527]},\"selected\":null,\"selection_policy\":null},\"id\":\"9414f287-ceb0-4160-bf2b-334fd96b60ca\",\"type\":\"ColumnDataSource\"},{\"attributes\":{\"months\":[0,1,2,3,4,5,6,7,8,9,10,11]},\"id\":\"125b82b9-d856-4ffc-82c8-356b3f619e66\",\"type\":\"MonthsTicker\"},{\"attributes\":{\"data_source\":{\"id\":\"36914ebe-a46a-46e3-a777-128c3a81b3a5\",\"type\":\"ColumnDataSource\"},\"glyph\":{\"id\":\"38421d97-8d8e-46bf-a088-3af440998cea\",\"type\":\"Circle\"},\"hover_glyph\":null,\"muted_glyph\":null,\"nonselection_glyph\":{\"id\":\"6a60fcc8-611e-481f-ae20-6050f229a712\",\"type\":\"Circle\"},\"selection_glyph\":null,\"view\":{\"id\":\"7925f6d9-5bbd-4501-919e-62d6e9cad009\",\"type\":\"CDSView\"}},\"id\":\"6b470836-8607-4d02-a14e-82a645abb88c\",\"type\":\"GlyphRenderer\"},{\"attributes\":{\"formatter\":{\"id\":\"9ace60c0-bb9d-4c22-a917-90834b43fb05\",\"type\":\"BasicTickFormatter\"},\"plot\":{\"id\":\"1032f288-8c25-4d5b-b3ce-e6da53939847\",\"subtype\":\"Figure\",\"type\":\"Plot\"},\"ticker\":{\"id\":\"3361a019-620c-4613-9816-efb2b247b724\",\"type\":\"BasicTicker\"}},\"id\":\"80f1e44f-fe4d-4943-8e13-349833fd45cb\",\"type\":\"LinearAxis\"},{\"attributes\":{\"fill_alpha\":{\"value\":0.2},\"fill_color\":{\"value\":\"#e6194b\"},\"line_color\":{\"value\":\"#e6194b\"},\"x\":{\"field\":\"x\"},\"y\":{\"field\":\"y\"}},\"id\":\"4d464c67-c353-416c-befb-03666410e4e6\",\"type\":\"Circle\"},{\"attributes\":{},\"id\":\"3361a019-620c-4613-9816-efb2b247b724\",\"type\":\"BasicTicker\"},{\"attributes\":{\"num_minor_ticks\":5,\"tickers\":[{\"id\":\"fd03e1f6-cdbb-4f0f-b69e-df3ab98c8746\",\"type\":\"AdaptiveTicker\"},{\"id\":\"6c185024-d633-4d09-a83c-40acaf72bfb6\",\"type\":\"AdaptiveTicker\"},{\"id\":\"0c35ce84-3aff-4859-bc89-d9683c25e159\",\"type\":\"AdaptiveTicker\"},{\"id\":\"c9f04e13-0946-4118-ac30-48d1673a9cde\",\"type\":\"DaysTicker\"},{\"id\":\"20251fa1-90b0-49e8-82ff-587213f22758\",\"type\":\"DaysTicker\"},{\"id\":\"f6cb688f-b6ed-47f1-a873-adeb26634d6b\",\"type\":\"DaysTicker\"},{\"id\":\"69f36d97-52ed-4fbb-9b2c-386e215b57c6\",\"type\":\"DaysTicker\"},{\"id\":\"125b82b9-d856-4ffc-82c8-356b3f619e66\",\"type\":\"MonthsTicker\"},{\"id\":\"cd8126bf-b7e4-4635-b848-c9263a050b09\",\"type\":\"MonthsTicker\"},{\"id\":\"5c4dde28-9498-4d93-b478-d3a5c49fa26a\",\"type\":\"MonthsTicker\"},{\"id\":\"b7beb346-e794-471e-8f4d-9678ee7f8ff2\",\"type\":\"MonthsTicker\"},{\"id\":\"a09fc4ab-3f0d-45ca-8a17-285ac09bbf8e\",\"type\":\"YearsTicker\"}]},\"id\":\"8b095863-4ed3-40c6-b61a-ece0769af49b\",\"type\":\"DatetimeTicker\"},{\"attributes\":{\"callback\":null,\"column_names\":[\"x\",\"y\"],\"data\":{\"x\":[1435708800000.0,1438387200000.0,1441065600000.0,1443657600000.0,1446336000000.0,1448928000000.0,1451606400000.0,1454284800000.0,1456790400000.0,1459468800000.0,1462060800000.0,1464739200000.0,1467331200000.0,1470009600000.0,1472688000000.0,1475280000000.0,1477958400000.0,1480550400000.0,1483228800000.0,1485907200000.0,1488326400000.0,1491004800000.0,1493596800000.0,1496275200000.0,1498867200000.0,1501545600000.0,1504224000000.0,1506816000000.0,1509494400000.0,1512086400000.0,1514764800000.0,1517443200000.0,1519862400000.0,1522540800000.0,1525132800000.0,1527811200000.0],\"y\":[0.22321817852871922,0.7259059932826643,1.4353114145176056,1.6749218225329996,1.469764348931105,0.991583621486385,1.8622027735618518,1.2217682266905385,1.3666655678371238,1.0119953599879676,1.0481384383538275,0.00811485782255033,-0.7028506962914929,-0.04310950504129406,0.3856020090285711,0.6605104234336446,0.6334681201958791,0.07539558823381802,0.272687391903574,-0.293640843210401,0.24798528798446123,-0.58785590199436,-0.49957838325184645,-1.4313027397588027,-1.48057693652377,-1.0046063973244443,-1.3139677461430173,-0.5179099445812934,-0.19463741092406217,-1.3889191298765358,-0.8006840289185053,-1.0984743922170728,-0.40233010045449724,-0.746534416906345,-0.9370006392300303,-1.8712602116655273]},\"selected\":null,\"selection_policy\":null},\"id\":\"36914ebe-a46a-46e3-a777-128c3a81b3a5\",\"type\":\"ColumnDataSource\"},{\"attributes\":{\"fill_alpha\":{\"value\":0.2},\"fill_color\":{\"value\":\"#3cb44b\"},\"line_color\":{\"value\":\"#3cb44b\"},\"x\":{\"field\":\"x\"},\"y\":{\"field\":\"y\"}},\"id\":\"bc91a460-996e-402c-8427-af478d9236cc\",\"type\":\"Circle\"},{\"attributes\":{\"callback\":null,\"column_names\":[\"x\",\"y\"],\"data\":{\"x\":[1435708800000.0,1438387200000.0,1441065600000.0,1443657600000.0,1446336000000.0,1448928000000.0,1451606400000.0,1454284800000.0,1456790400000.0,1459468800000.0,1462060800000.0,1464739200000.0,1467331200000.0,1470009600000.0,1472688000000.0,1475280000000.0,1477958400000.0,1480550400000.0,1483228800000.0,1485907200000.0,1488326400000.0,1491004800000.0,1493596800000.0,1496275200000.0,1498867200000.0,1501545600000.0,1504224000000.0,1506816000000.0,1509494400000.0,1512086400000.0,1514764800000.0,1517443200000.0,1519862400000.0,1522540800000.0,1525132800000.0,1527811200000.0],\"y\":[-0.8002037508542204,-0.7152803177280526,0.32601162383434373,0.7898242201387988,0.28028362138179186,-0.5179966500041857,1.0374086905604727,2.502011283397921,1.710916840968773,0.1395066995457213,0.18915424506563483,-0.5718903671804076,-1.3871553251916189,-0.8230677520804963,0.21495790359243197,1.1961501847886171,0.5768623801454856,-0.7240992896296161,0.12872795611047694,-0.10481148498648458,0.5820884375686345,-1.1627614845851677,-0.9471866158802801,-1.8868970662802218,-0.22795046301942795,-0.02707388081714634,-0.31254726755664897,0.5922139238259853,1.2291396722722439,-0.47422841908531466,1.8729246210863855,0.6428413551127391,0.16596361525041206,-0.5016652205568458,-0.7544757484016685,-2.2376961708090843]},\"selected\":null,\"selection_policy\":null},\"id\":\"9ae0fa85-de84-4bc5-b0d0-442008e21425\",\"type\":\"ColumnDataSource\"},{\"attributes\":{\"base\":60,\"mantissas\":[1,2,5,10,15,20,30],\"max_interval\":1800000.0,\"min_interval\":1000.0,\"num_minor_ticks\":0},\"id\":\"6c185024-d633-4d09-a83c-40acaf72bfb6\",\"type\":\"AdaptiveTicker\"},{\"attributes\":{\"label\":{\"value\":\"Linux_Foundation\"},\"renderers\":[{\"id\":\"cf7698d2-a844-416f-9df6-ac6266f03e48\",\"type\":\"GlyphRenderer\"},{\"id\":\"2404e71b-d990-431b-8fe4-3393f23ff909\",\"type\":\"GlyphRenderer\"}]},\"id\":\"8a75e731-01a0-4327-986a-ab93409d1f90\",\"type\":\"LegendItem\"},{\"attributes\":{\"line_alpha\":0.1,\"line_color\":\"#1f77b4\",\"line_width\":1.5,\"x\":{\"field\":\"x\"},\"y\":{\"field\":\"y\"}},\"id\":\"67930799-c66c-4f77-b985-5731911fb277\",\"type\":\"Line\"},{\"attributes\":{\"callback\":null,\"range_padding\":0.01},\"id\":\"45bf7564-0168-41e1-9732-1359e4696d52\",\"type\":\"DataRange1d\"},{\"attributes\":{\"days\":[1,2,3,4,5,6,7,8,9,10,11,12,13,14,15,16,17,18,19,20,21,22,23,24,25,26,27,28,29,30,31]},\"id\":\"c9f04e13-0946-4118-ac30-48d1673a9cde\",\"type\":\"DaysTicker\"},{\"attributes\":{\"source\":{\"id\":\"70bfafdd-246c-412e-bb51-d03b0b649282\",\"type\":\"ColumnDataSource\"}},\"id\":\"49cabbaf-9da8-4be1-89b6-cbcf064616be\",\"type\":\"CDSView\"},{\"attributes\":{\"data_source\":{\"id\":\"f882071a-f5eb-454c-9cc5-4076c5dc36d2\",\"type\":\"ColumnDataSource\"},\"glyph\":{\"id\":\"e191cd1d-a8f6-40b6-9735-e0a1d9259e78\",\"type\":\"Line\"},\"hover_glyph\":null,\"muted_glyph\":null,\"nonselection_glyph\":{\"id\":\"6700094f-c33a-4004-b06f-7578841e7d95\",\"type\":\"Line\"},\"selection_glyph\":null,\"view\":{\"id\":\"90a9b311-e2ee-4f9c-babb-490221674fed\",\"type\":\"CDSView\"}},\"id\":\"6718a24a-df54-421b-bb0d-93dce2357e31\",\"type\":\"GlyphRenderer\"},{\"attributes\":{\"below\":[{\"id\":\"aa67f676-d2d3-4383-aa3d-ae136dc24b99\",\"type\":\"DatetimeAxis\"}],\"left\":[{\"id\":\"80f1e44f-fe4d-4943-8e13-349833fd45cb\",\"type\":\"LinearAxis\"}],\"plot_width\":970,\"renderers\":[{\"id\":\"aa67f676-d2d3-4383-aa3d-ae136dc24b99\",\"type\":\"DatetimeAxis\"},{\"id\":\"7bfab25b-57a2-409d-8878-6f0ee2471277\",\"type\":\"Grid\"},{\"id\":\"80f1e44f-fe4d-4943-8e13-349833fd45cb\",\"type\":\"LinearAxis\"},{\"id\":\"d416725b-f48c-462c-8c55-1cad4c0c3ab6\",\"type\":\"Grid\"},{\"id\":\"3e7fb3fd-be6d-40e4-af89-91d89ede702c\",\"type\":\"BoxAnnotation\"},{\"id\":\"fbe2ec74-4ae2-4398-88d7-54c47673d7c2\",\"type\":\"Legend\"},{\"id\":\"6718a24a-df54-421b-bb0d-93dce2357e31\",\"type\":\"GlyphRenderer\"},{\"id\":\"104c35b1-c5f7-4c2c-8c82-e1be19d67504\",\"type\":\"GlyphRenderer\"},{\"id\":\"fe8a7408-1dc7-4454-8625-f79e564d8d0d\",\"type\":\"GlyphRenderer\"},{\"id\":\"aa1baea5-a256-44a4-8e3a-7534a2efc7be\",\"type\":\"GlyphRenderer\"},{\"id\":\"cf7698d2-a844-416f-9df6-ac6266f03e48\",\"type\":\"GlyphRenderer\"},{\"id\":\"2404e71b-d990-431b-8fe4-3393f23ff909\",\"type\":\"GlyphRenderer\"},{\"id\":\"80f1894e-8674-4077-b492-eb4006fda74f\",\"type\":\"GlyphRenderer\"},{\"id\":\"4f632045-dfce-43b1-9861-0a537f41d925\",\"type\":\"GlyphRenderer\"},{\"id\":\"c51f4da7-19b9-4ded-9cb6-3d94d4177d4f\",\"type\":\"GlyphRenderer\"},{\"id\":\"6b470836-8607-4d02-a14e-82a645abb88c\",\"type\":\"GlyphRenderer\"},{\"id\":\"94cf9e05-d72f-4502-9c15-dc0cb9c2eaf4\",\"type\":\"GlyphRenderer\"},{\"id\":\"8ea935b8-1f22-486d-9898-01f7e16912a5\",\"type\":\"GlyphRenderer\"}],\"title\":{\"id\":\"97a463dd-4b76-4974-8286-4256da1b0e91\",\"type\":\"Title\"},\"toolbar\":{\"id\":\"97663c66-354c-4bf3-a1fa-3ea90d713c74\",\"type\":\"Toolbar\"},\"x_range\":{\"id\":\"45bf7564-0168-41e1-9732-1359e4696d52\",\"type\":\"DataRange1d\"},\"x_scale\":{\"id\":\"09e469eb-aac9-4ece-aef2-8eac3c064502\",\"type\":\"LinearScale\"},\"y_range\":{\"id\":\"c92b787f-c387-40a4-ba0b-ddb3bf0fea46\",\"type\":\"DataRange1d\"},\"y_scale\":{\"id\":\"0a3762de-0e81-4a32-a707-df73f9881e5e\",\"type\":\"LinearScale\"}},\"id\":\"1032f288-8c25-4d5b-b3ce-e6da53939847\",\"subtype\":\"Figure\",\"type\":\"Plot\"},{\"attributes\":{\"data_source\":{\"id\":\"6f51d500-cb2c-47b9-80b1-bd216e03158c\",\"type\":\"ColumnDataSource\"},\"glyph\":{\"id\":\"91e3b13c-f310-4963-a98c-11a18cea18d8\",\"type\":\"Line\"},\"hover_glyph\":null,\"muted_glyph\":null,\"nonselection_glyph\":{\"id\":\"b40effed-d4d6-469d-902b-0ea153e55fea\",\"type\":\"Line\"},\"selection_glyph\":null,\"view\":{\"id\":\"c82eb4a4-cfb4-4086-83db-45669f251ed3\",\"type\":\"CDSView\"}},\"id\":\"fe8a7408-1dc7-4454-8625-f79e564d8d0d\",\"type\":\"GlyphRenderer\"},{\"attributes\":{\"source\":{\"id\":\"581fb41b-2d5e-4367-a0ab-14564bdc02f9\",\"type\":\"ColumnDataSource\"}},\"id\":\"a7fed610-7213-46d7-b4d0-ab564385bf8c\",\"type\":\"CDSView\"},{\"attributes\":{\"months\":[0,4,8]},\"id\":\"5c4dde28-9498-4d93-b478-d3a5c49fa26a\",\"type\":\"MonthsTicker\"},{\"attributes\":{\"line_alpha\":0.1,\"line_color\":\"#1f77b4\",\"line_width\":1.5,\"x\":{\"field\":\"x\"},\"y\":{\"field\":\"y\"}},\"id\":\"87e12eab-7a04-468a-9c1c-300740376ac9\",\"type\":\"Line\"},{\"attributes\":{},\"id\":\"9ace60c0-bb9d-4c22-a917-90834b43fb05\",\"type\":\"BasicTickFormatter\"},{\"attributes\":{\"callback\":null,\"column_names\":[\"x\",\"y\"],\"data\":{\"x\":[1435708800000.0,1438387200000.0,1441065600000.0,1443657600000.0,1446336000000.0,1448928000000.0,1451606400000.0,1454284800000.0,1456790400000.0,1459468800000.0,1462060800000.0,1464739200000.0,1467331200000.0,1470009600000.0,1472688000000.0,1475280000000.0,1477958400000.0,1480550400000.0,1483228800000.0,1485907200000.0,1488326400000.0,1491004800000.0,1493596800000.0,1496275200000.0,1498867200000.0,1501545600000.0,1504224000000.0,1506816000000.0,1509494400000.0,1512086400000.0,1514764800000.0,1517443200000.0,1519862400000.0,1522540800000.0,1525132800000.0,1527811200000.0],\"y\":[0.22321817852871922,0.7259059932826643,1.4353114145176056,1.6749218225329996,1.469764348931105,0.991583621486385,1.8622027735618518,1.2217682266905385,1.3666655678371238,1.0119953599879676,1.0481384383538275,0.00811485782255033,-0.7028506962914929,-0.04310950504129406,0.3856020090285711,0.6605104234336446,0.6334681201958791,0.07539558823381802,0.272687391903574,-0.293640843210401,0.24798528798446123,-0.58785590199436,-0.49957838325184645,-1.4313027397588027,-1.48057693652377,-1.0046063973244443,-1.3139677461430173,-0.5179099445812934,-0.19463741092406217,-1.3889191298765358,-0.8006840289185053,-1.0984743922170728,-0.40233010045449724,-0.746534416906345,-0.9370006392300303,-1.8712602116655273]},\"selected\":null,\"selection_policy\":null},\"id\":\"581fb41b-2d5e-4367-a0ab-14564bdc02f9\",\"type\":\"ColumnDataSource\"},{\"attributes\":{\"months\":[0,6]},\"id\":\"b7beb346-e794-471e-8f4d-9678ee7f8ff2\",\"type\":\"MonthsTicker\"},{\"attributes\":{\"source\":{\"id\":\"36914ebe-a46a-46e3-a777-128c3a81b3a5\",\"type\":\"ColumnDataSource\"}},\"id\":\"7925f6d9-5bbd-4501-919e-62d6e9cad009\",\"type\":\"CDSView\"},{\"attributes\":{\"mantissas\":[1,2,5],\"max_interval\":500.0,\"num_minor_ticks\":0},\"id\":\"fd03e1f6-cdbb-4f0f-b69e-df3ab98c8746\",\"type\":\"AdaptiveTicker\"},{\"attributes\":{\"line_color\":\"#3cb44b\",\"line_width\":1.5,\"x\":{\"field\":\"x\"},\"y\":{\"field\":\"y\"}},\"id\":\"91e3b13c-f310-4963-a98c-11a18cea18d8\",\"type\":\"Line\"},{\"attributes\":{\"data_source\":{\"id\":\"316af6df-c00d-4846-bad4-73032e5e2fa2\",\"type\":\"ColumnDataSource\"},\"glyph\":{\"id\":\"deb3b3d5-151c-494e-9ca0-f25cc97c1aa5\",\"type\":\"Circle\"},\"hover_glyph\":null,\"muted_glyph\":null,\"nonselection_glyph\":{\"id\":\"aa0f6e61-d819-4975-95ab-684ca4695e87\",\"type\":\"Circle\"},\"selection_glyph\":null,\"view\":{\"id\":\"a36634aa-0398-4ab4-9137-51d2d0ed7170\",\"type\":\"CDSView\"}},\"id\":\"2404e71b-d990-431b-8fe4-3393f23ff909\",\"type\":\"GlyphRenderer\"},{\"attributes\":{\"line_alpha\":0.1,\"line_color\":\"#1f77b4\",\"line_width\":1.5,\"x\":{\"field\":\"x\"},\"y\":{\"field\":\"y\"}},\"id\":\"366b9239-eccc-49ae-b8e7-56d8c8e53db1\",\"type\":\"Line\"},{\"attributes\":{\"callback\":null,\"column_names\":[\"x\",\"y\"],\"data\":{\"x\":[1435708800000.0,1438387200000.0,1441065600000.0,1443657600000.0,1446336000000.0,1448928000000.0,1451606400000.0,1454284800000.0,1456790400000.0,1459468800000.0,1462060800000.0,1464739200000.0,1467331200000.0,1470009600000.0,1472688000000.0,1475280000000.0,1477958400000.0,1480550400000.0,1483228800000.0,1485907200000.0,1488326400000.0,1491004800000.0,1493596800000.0,1496275200000.0,1498867200000.0,1501545600000.0,1504224000000.0,1506816000000.0,1509494400000.0,1512086400000.0,1514764800000.0,1517443200000.0,1519862400000.0,1522540800000.0,1525132800000.0,1527811200000.0],\"y\":[-1.1628776160992365,-0.8502635167249954,-0.6078997767606962,-0.36413102960819815,-1.0863047243423998,-1.2211854144094882,-0.7181928410343048,-0.995681760703575,-1.0132443505560604,-0.37185856914329174,-0.5896346833141113,-1.1642826232874353,-1.02588941524985,-0.5868246689377137,-1.0118393433678616,-0.553807000015041,2.504893648693825,-0.44562144652373065,-0.4610765255939178,-0.3493784541321104,0.5013533983222849,-0.09717966385041928,0.06790868076294396,-0.4933916909224911,0.1676641911250613,0.2491546080405938,0.9748408207452927,0.9980234393505735,1.2937774524664285,0.7128069801462097,1.6977170190735937,0.3187024638564362,1.2902649344959314,1.165219294746235,0.9446331661990177,2.2836050165525084]},\"selected\":null,\"selection_policy\":null},\"id\":\"316af6df-c00d-4846-bad4-73032e5e2fa2\",\"type\":\"ColumnDataSource\"},{\"attributes\":{\"formatter\":{\"id\":\"59e2c485-6aab-4db2-b539-8e7e7f549d37\",\"type\":\"DatetimeTickFormatter\"},\"major_label_orientation\":1.0471975511965976,\"plot\":{\"id\":\"1032f288-8c25-4d5b-b3ce-e6da53939847\",\"subtype\":\"Figure\",\"type\":\"Plot\"},\"ticker\":{\"id\":\"8b095863-4ed3-40c6-b61a-ece0769af49b\",\"type\":\"DatetimeTicker\"}},\"id\":\"aa67f676-d2d3-4383-aa3d-ae136dc24b99\",\"type\":\"DatetimeAxis\"},{\"attributes\":{\"base\":24,\"mantissas\":[1,2,4,6,8,12],\"max_interval\":43200000.0,\"min_interval\":3600000.0,\"num_minor_ticks\":0},\"id\":\"0c35ce84-3aff-4859-bc89-d9683c25e159\",\"type\":\"AdaptiveTicker\"},{\"attributes\":{\"source\":{\"id\":\"9414f287-ceb0-4160-bf2b-334fd96b60ca\",\"type\":\"ColumnDataSource\"}},\"id\":\"f3936e60-b0ee-4882-9bb4-7a3aed1d3308\",\"type\":\"CDSView\"},{\"attributes\":{\"days\":[1,8,15,22]},\"id\":\"f6cb688f-b6ed-47f1-a873-adeb26634d6b\",\"type\":\"DaysTicker\"},{\"attributes\":{\"source\":{\"id\":\"da891a6c-1dfd-4ab4-9675-ecfead6dc743\",\"type\":\"ColumnDataSource\"}},\"id\":\"9abfa811-412a-4be5-9e58-9464879e2ec7\",\"type\":\"CDSView\"},{\"attributes\":{},\"id\":\"d8cd51ee-fdf0-425a-85b2-e91ea81f382d\",\"type\":\"SaveTool\"},{\"attributes\":{\"overlay\":{\"id\":\"3e7fb3fd-be6d-40e4-af89-91d89ede702c\",\"type\":\"BoxAnnotation\"}},\"id\":\"bb9034a2-38b0-4601-b520-c7dc15dcf826\",\"type\":\"BoxZoomTool\"},{\"attributes\":{\"line_alpha\":0.1,\"line_color\":\"#1f77b4\",\"line_width\":1.5,\"x\":{\"field\":\"x\"},\"y\":{\"field\":\"y\"}},\"id\":\"b40effed-d4d6-469d-902b-0ea153e55fea\",\"type\":\"Line\"},{\"attributes\":{\"fill_alpha\":{\"value\":0.2},\"fill_color\":{\"value\":\"#f58231\"},\"line_color\":{\"value\":\"#f58231\"},\"x\":{\"field\":\"x\"},\"y\":{\"field\":\"y\"}},\"id\":\"38421d97-8d8e-46bf-a088-3af440998cea\",\"type\":\"Circle\"},{\"attributes\":{\"line_color\":\"#ffe119\",\"line_width\":1.5,\"x\":{\"field\":\"x\"},\"y\":{\"field\":\"y\"}},\"id\":\"ed653f3e-2538-467e-95ec-aefa2c4c4182\",\"type\":\"Line\"},{\"attributes\":{\"fill_alpha\":{\"value\":0.1},\"fill_color\":{\"value\":\"#1f77b4\"},\"line_alpha\":{\"value\":0.1},\"line_color\":{\"value\":\"#1f77b4\"},\"x\":{\"field\":\"x\"},\"y\":{\"field\":\"y\"}},\"id\":\"9045af6c-530f-4f7d-a50e-96d7b253fd63\",\"type\":\"Circle\"},{\"attributes\":{\"fill_alpha\":{\"value\":0.1},\"fill_color\":{\"value\":\"#1f77b4\"},\"line_alpha\":{\"value\":0.1},\"line_color\":{\"value\":\"#1f77b4\"},\"x\":{\"field\":\"x\"},\"y\":{\"field\":\"y\"}},\"id\":\"9f166989-208e-4626-a5c1-1a2d24611f11\",\"type\":\"Circle\"},{\"attributes\":{\"data_source\":{\"id\":\"6235e934-e5a9-443b-a367-089ef8bfdfd6\",\"type\":\"ColumnDataSource\"},\"glyph\":{\"id\":\"23bcfa8f-e00e-4c2e-9e5e-c2fb97b0caff\",\"type\":\"Line\"},\"hover_glyph\":null,\"muted_glyph\":null,\"nonselection_glyph\":{\"id\":\"7fbbb63d-c68f-47a0-810c-f310d3bd6db7\",\"type\":\"Line\"},\"selection_glyph\":null,\"view\":{\"id\":\"5f7fa061-c1af-43c0-843f-60237a075c9b\",\"type\":\"CDSView\"}},\"id\":\"80f1894e-8674-4077-b492-eb4006fda74f\",\"type\":\"GlyphRenderer\"},{\"attributes\":{},\"id\":\"c9150243-b858-458f-b740-49be3a0d21d9\",\"type\":\"ResetTool\"},{\"attributes\":{\"data_source\":{\"id\":\"581fb41b-2d5e-4367-a0ab-14564bdc02f9\",\"type\":\"ColumnDataSource\"},\"glyph\":{\"id\":\"9a75d47a-8b7e-4fea-b3a5-3f5bcafc2d64\",\"type\":\"Line\"},\"hover_glyph\":null,\"muted_glyph\":null,\"nonselection_glyph\":{\"id\":\"87e12eab-7a04-468a-9c1c-300740376ac9\",\"type\":\"Line\"},\"selection_glyph\":null,\"view\":{\"id\":\"a7fed610-7213-46d7-b4d0-ab564385bf8c\",\"type\":\"CDSView\"}},\"id\":\"c51f4da7-19b9-4ded-9cb6-3d94d4177d4f\",\"type\":\"GlyphRenderer\"},{\"attributes\":{\"source\":{\"id\":\"6235e934-e5a9-443b-a367-089ef8bfdfd6\",\"type\":\"ColumnDataSource\"}},\"id\":\"5f7fa061-c1af-43c0-843f-60237a075c9b\",\"type\":\"CDSView\"},{\"attributes\":{\"data_source\":{\"id\":\"9ae0fa85-de84-4bc5-b0d0-442008e21425\",\"type\":\"ColumnDataSource\"},\"glyph\":{\"id\":\"5185cbcb-819b-4c2f-90bc-1182b95a4a57\",\"type\":\"Line\"},\"hover_glyph\":null,\"muted_glyph\":null,\"nonselection_glyph\":{\"id\":\"67930799-c66c-4f77-b985-5731911fb277\",\"type\":\"Line\"},\"selection_glyph\":null,\"view\":{\"id\":\"8d376038-2ca6-4501-82b4-22fd508a0921\",\"type\":\"CDSView\"}},\"id\":\"94cf9e05-d72f-4502-9c15-dc0cb9c2eaf4\",\"type\":\"GlyphRenderer\"},{\"attributes\":{\"days\":[1,15]},\"id\":\"69f36d97-52ed-4fbb-9b2c-386e215b57c6\",\"type\":\"DaysTicker\"},{\"attributes\":{\"label\":{\"value\":\"IEEE_802.11\"},\"renderers\":[{\"id\":\"c51f4da7-19b9-4ded-9cb6-3d94d4177d4f\",\"type\":\"GlyphRenderer\"},{\"id\":\"6b470836-8607-4d02-a14e-82a645abb88c\",\"type\":\"GlyphRenderer\"}]},\"id\":\"27746545-1116-42f1-a960-1e417b7436c7\",\"type\":\"LegendItem\"},{\"attributes\":{\"fill_alpha\":{\"value\":0.1},\"fill_color\":{\"value\":\"#1f77b4\"},\"line_alpha\":{\"value\":0.1},\"line_color\":{\"value\":\"#1f77b4\"},\"x\":{\"field\":\"x\"},\"y\":{\"field\":\"y\"}},\"id\":\"2298e6f8-c2e1-4a34-b399-d447e5f16cce\",\"type\":\"Circle\"},{\"attributes\":{\"data_source\":{\"id\":\"287c28f2-6afc-4614-b93b-1c3557dd8f83\",\"type\":\"ColumnDataSource\"},\"glyph\":{\"id\":\"bc91a460-996e-402c-8427-af478d9236cc\",\"type\":\"Circle\"},\"hover_glyph\":null,\"muted_glyph\":null,\"nonselection_glyph\":{\"id\":\"9f166989-208e-4626-a5c1-1a2d24611f11\",\"type\":\"Circle\"},\"selection_glyph\":null,\"view\":{\"id\":\"a45bf8ba-397b-43b4-9c3b-7d9b1f95ea65\",\"type\":\"CDSView\"}},\"id\":\"aa1baea5-a256-44a4-8e3a-7534a2efc7be\",\"type\":\"GlyphRenderer\"},{\"attributes\":{\"fill_alpha\":{\"value\":0.1},\"fill_color\":{\"value\":\"#1f77b4\"},\"line_alpha\":{\"value\":0.1},\"line_color\":{\"value\":\"#1f77b4\"},\"x\":{\"field\":\"x\"},\"y\":{\"field\":\"y\"}},\"id\":\"6a60fcc8-611e-481f-ae20-6050f229a712\",\"type\":\"Circle\"},{\"attributes\":{\"months\":[0,2,4,6,8,10]},\"id\":\"cd8126bf-b7e4-4635-b848-c9263a050b09\",\"type\":\"MonthsTicker\"},{\"attributes\":{\"line_color\":\"#f58231\",\"line_width\":1.5,\"x\":{\"field\":\"x\"},\"y\":{\"field\":\"y\"}},\"id\":\"9a75d47a-8b7e-4fea-b3a5-3f5bcafc2d64\",\"type\":\"Line\"},{\"attributes\":{},\"id\":\"52ebb484-0a48-4175-94ee-0cca33fe78bf\",\"type\":\"PanTool\"},{\"attributes\":{\"click_policy\":\"hide\",\"items\":[{\"id\":\"0c72ef6b-49b2-491d-982c-64e8de1064d6\",\"type\":\"LegendItem\"},{\"id\":\"61c4ef39-2e3a-487b-adae-a88bbd8386c5\",\"type\":\"LegendItem\"},{\"id\":\"8a75e731-01a0-4327-986a-ab93409d1f90\",\"type\":\"LegendItem\"},{\"id\":\"e02de7bb-3d00-4c08-b624-9b24fa9ae2e7\",\"type\":\"LegendItem\"},{\"id\":\"27746545-1116-42f1-a960-1e417b7436c7\",\"type\":\"LegendItem\"},{\"id\":\"4d2f018c-9cb7-4df2-bb55-c086a3a552e7\",\"type\":\"LegendItem\"}],\"location\":\"top_left\",\"plot\":{\"id\":\"1032f288-8c25-4d5b-b3ce-e6da53939847\",\"subtype\":\"Figure\",\"type\":\"Plot\"}},\"id\":\"fbe2ec74-4ae2-4398-88d7-54c47673d7c2\",\"type\":\"Legend\"},{\"attributes\":{\"line_color\":\"#e6194b\",\"line_width\":1.5,\"x\":{\"field\":\"x\"},\"y\":{\"field\":\"y\"}},\"id\":\"e191cd1d-a8f6-40b6-9735-e0a1d9259e78\",\"type\":\"Line\"},{\"attributes\":{\"callback\":null,\"column_names\":[\"x\",\"y\"],\"data\":{\"x\":[1435708800000.0,1438387200000.0,1441065600000.0,1443657600000.0,1446336000000.0,1448928000000.0,1451606400000.0,1454284800000.0,1456790400000.0,1459468800000.0,1462060800000.0,1464739200000.0,1467331200000.0,1470009600000.0,1472688000000.0,1475280000000.0,1477958400000.0,1480550400000.0,1483228800000.0,1485907200000.0,1488326400000.0,1491004800000.0,1493596800000.0,1496275200000.0,1498867200000.0,1501545600000.0,1504224000000.0,1506816000000.0,1509494400000.0,1512086400000.0,1514764800000.0,1517443200000.0,1519862400000.0,1522540800000.0,1525132800000.0,1527811200000.0],\"y\":[-1.6196271694327538,-1.0690112876466369,-0.2835739268634998,1.0251509539259285,0.7812200210022996,-0.12061591773194684,0.9998469152409047,0.7994389288555167,1.5332560507212054,1.340945356715025,1.1243427855712216,-0.19652803378701808,-1.6155785232431499,-1.23196929677819,-0.6884385458238798,0.26602979337521604,1.255923786733345,-0.13984698713256488,-0.2694036651998865,-0.1479442795117725,1.6941897367579564,1.2873007947027746,0.9654334226292725,-1.092291003236859,-1.2157747120197746,-1.4263043138791722,-1.2177990351145767,0.37331891739971673,0.4431580641703823,-1.0042329486129762,-0.4262887050470337,-0.3321576811387454,0.6152255272285437,0.6648214430511903,0.5463985420052792,-1.6186150078853527]},\"selected\":null,\"selection_policy\":null},\"id\":\"6235e934-e5a9-443b-a367-089ef8bfdfd6\",\"type\":\"ColumnDataSource\"},{\"attributes\":{\"bottom_units\":\"screen\",\"fill_alpha\":{\"value\":0.5},\"fill_color\":{\"value\":\"lightgrey\"},\"left_units\":\"screen\",\"level\":\"overlay\",\"line_alpha\":{\"value\":1.0},\"line_color\":{\"value\":\"black\"},\"line_dash\":[4,4],\"line_width\":{\"value\":2},\"plot\":null,\"render_mode\":\"css\",\"right_units\":\"screen\",\"top_units\":\"screen\"},\"id\":\"3e7fb3fd-be6d-40e4-af89-91d89ede702c\",\"type\":\"BoxAnnotation\"},{\"attributes\":{\"data_source\":{\"id\":\"3aa95506-2a6e-471a-9f64-5d131ccd6e30\",\"type\":\"ColumnDataSource\"},\"glyph\":{\"id\":\"ed653f3e-2538-467e-95ec-aefa2c4c4182\",\"type\":\"Line\"},\"hover_glyph\":null,\"muted_glyph\":null,\"nonselection_glyph\":{\"id\":\"366b9239-eccc-49ae-b8e7-56d8c8e53db1\",\"type\":\"Line\"},\"selection_glyph\":null,\"view\":{\"id\":\"37d9e40a-d0f2-4c86-8785-7c8359c51261\",\"type\":\"CDSView\"}},\"id\":\"cf7698d2-a844-416f-9df6-ac6266f03e48\",\"type\":\"GlyphRenderer\"},{\"attributes\":{},\"id\":\"0a3762de-0e81-4a32-a707-df73f9881e5e\",\"type\":\"LinearScale\"},{\"attributes\":{},\"id\":\"59e2c485-6aab-4db2-b539-8e7e7f549d37\",\"type\":\"DatetimeTickFormatter\"},{\"attributes\":{\"source\":{\"id\":\"6f51d500-cb2c-47b9-80b1-bd216e03158c\",\"type\":\"ColumnDataSource\"}},\"id\":\"c82eb4a4-cfb4-4086-83db-45669f251ed3\",\"type\":\"CDSView\"},{\"attributes\":{},\"id\":\"4b7806be-f920-411c-917c-a6165d117c73\",\"type\":\"HelpTool\"},{\"attributes\":{\"source\":{\"id\":\"3aa95506-2a6e-471a-9f64-5d131ccd6e30\",\"type\":\"ColumnDataSource\"}},\"id\":\"37d9e40a-d0f2-4c86-8785-7c8359c51261\",\"type\":\"CDSView\"},{\"attributes\":{\"callback\":null},\"id\":\"c92b787f-c387-40a4-ba0b-ddb3bf0fea46\",\"type\":\"DataRange1d\"},{\"attributes\":{},\"id\":\"09e469eb-aac9-4ece-aef2-8eac3c064502\",\"type\":\"LinearScale\"}],\"root_ids\":[\"1032f288-8c25-4d5b-b3ce-e6da53939847\"]},\"title\":\"Bokeh Application\",\"version\":\"0.12.15\"}};\n",
       "  var render_items = [{\"docid\":\"0f452ee3-eb71-4103-95b4-44793ac82a3d\",\"elementid\":\"4cc96e94-3931-446c-939e-44e344284ed7\",\"modelid\":\"1032f288-8c25-4d5b-b3ce-e6da53939847\"}];\n",
       "  root.Bokeh.embed.embed_items_notebook(docs_json, render_items);\n",
       "\n",
       "  }\n",
       "  if (root.Bokeh !== undefined) {\n",
       "    embed_document(root);\n",
       "  } else {\n",
       "    var attempts = 0;\n",
       "    var timer = setInterval(function(root) {\n",
       "      if (root.Bokeh !== undefined) {\n",
       "        embed_document(root);\n",
       "        clearInterval(timer);\n",
       "      }\n",
       "      attempts++;\n",
       "      if (attempts > 100) {\n",
       "        console.log(\"Bokeh: ERROR: Unable to run BokehJS code because BokehJS library is missing\")\n",
       "        clearInterval(timer);\n",
       "      }\n",
       "    }, 10, root)\n",
       "  }\n",
       "})(window);"
      ],
      "application/vnd.bokehjs_exec.v0+json": ""
     },
     "metadata": {
      "application/vnd.bokehjs_exec.v0+json": {
       "id": "1032f288-8c25-4d5b-b3ce-e6da53939847"
      }
     },
     "output_type": "display_data"
    }
   ],
   "source": [
    "'''\n",
    "Options Availables:\n",
    "\n",
    "#TOPIC: \n",
    "=0 : comparing tech with social\n",
    "=1 : comparing social with tech\n",
    "=2 : comparing social with social \n",
    "\n",
    "#ALL_YEARS:\n",
    "=True : Do the trending analysis with all the years that are available (X 2017)\n",
    "=False : Do the trending analysis since July 2015    \n",
    "'''\n",
    "TOPIC = 1\n",
    "\n",
    "ALL_YEARS=False\n",
    "\n",
    "\n",
    "#Position of the article to select\n",
    "pos_article = 1\n",
    "\n",
    "#umber of closer articles to print\n",
    "num_closer = 5\n",
    "\n",
    "#plot the articles normalized, or with the real number of pageviews\n",
    "plot_normalized = True\n",
    "\n",
    "df1_norm, df2_norm, df1, df2, cl = loading_data_distances(TOPIC=TOPIC, ALL_YEARS=ALL_YEARS)\n",
    "plot_articles(loading_dataset_x_closer(num_closer, pos_article, plot_normalized))"
   ]
  },
  {
   "cell_type": "code",
   "execution_count": 22,
   "metadata": {
    "scrolled": true
   },
   "outputs": [
    {
     "name": "stdout",
     "output_type": "stream",
     "text": [
      "0. Word: \"Network_transparency\"\n",
      "Related to: \"IEEE_802.11\",\"Speech_recognition\",\"Software-defined_infrastructure\"\n",
      "\n",
      "1. Word: \"Resilience_(network)\"\n",
      "Related to: \"Speech_recognition\",\"Linux_Foundation\",\"IEEE_802.15\"\n",
      "\n",
      "2. Word: \"Level_playing_field\"\n",
      "Related to: \"IEEE_802.15\",\"Speech_recognition\",\"Internet_Research_Task_Force\"\n",
      "\n",
      "3. Word: \"Hyperconnectivity\"\n",
      "Related to: \"IEEE_802.15\",\"Content_delivery_network\",\"WiMAX\"\n",
      "\n",
      "4. Word: \"Social_objects\"\n",
      "Related to: \"IEEE_802.15\",\"Content_delivery_network\",\"Matroska\"\n",
      "\n",
      "5. Word: \"Ubiquitous_computing\"\n",
      "Related to: \"IEEE_802.11\",\"Smart_grid\",\"Speech_recognition\"\n",
      "\n",
      "6. Word: \"Digital_Single_Market\"\n",
      "Related to: \"Identity_management\",\"Electronic_identification\",\"Robust_Header_Compression\"\n",
      "\n",
      "7. Word: \"Fake_news\"\n",
      "Related to: \"CBOR\",\"Robust_Header_Compression\",\"Blockchain\"\n",
      "\n",
      "8. Word: \"Robot_tax\"\n",
      "Related to: \"CBOR\",\"Blockchain\",\"DOCSIS\"\n",
      "\n",
      "9. Word: \"Global_education\"\n",
      "Related to: \"Intelligent_environment\",\"Data_Plane_Development_Kit\",\"Cognitive_robotics\"\n",
      "\n"
     ]
    }
   ],
   "source": [
    "print_words(cl)"
   ]
  }
 ],
 "metadata": {
  "kernelspec": {
   "display_name": "Python 3",
   "language": "python",
   "name": "python3"
  },
  "language_info": {
   "codemirror_mode": {
    "name": "ipython",
    "version": 3
   },
   "file_extension": ".py",
   "mimetype": "text/x-python",
   "name": "python",
   "nbconvert_exporter": "python",
   "pygments_lexer": "ipython3",
   "version": "3.6.4"
  }
 },
 "nbformat": 4,
 "nbformat_minor": 2
}
